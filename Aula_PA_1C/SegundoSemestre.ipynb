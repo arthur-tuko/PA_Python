{
  "nbformat": 4,
  "nbformat_minor": 0,
  "metadata": {
    "colab": {
      "provenance": [],
      "authorship_tag": "ABX9TyPtf4i8s4kbi31fJysckjRH",
      "include_colab_link": true
    },
    "kernelspec": {
      "name": "python3",
      "display_name": "Python 3"
    },
    "language_info": {
      "name": "python"
    }
  },
  "cells": [
    {
      "cell_type": "markdown",
      "metadata": {
        "id": "view-in-github",
        "colab_type": "text"
      },
      "source": [
        "<a href=\"https://colab.research.google.com/github/arthur-tuko/PA_Python/blob/main/Aula_PA_1C/SegundoSemestre.ipynb\" target=\"_parent\"><img src=\"https://colab.research.google.com/assets/colab-badge.svg\" alt=\"Open In Colab\"/></a>"
      ]
    },
    {
      "cell_type": "code",
      "execution_count": null,
      "metadata": {
        "id": "jm9j0zgEXWrJ"
      },
      "outputs": [],
      "source": [
        "nome = str(input('Digite seu nome: '))\n",
        "idade = int(input('Digite sua idade: '))\n",
        "peso = float(input('Digite seu peso: '))\n",
        "altura = float(input('Digite sua altura: '))\n",
        "\n",
        "print('Seu nome é: ', nome)\n",
        "print('Sua idade é: ', idade)\n",
        "print('Seu peso é: ', peso)\n",
        "print('Sua altura é: ', altura)\n"
      ]
    },
    {
      "cell_type": "code",
      "source": [
        "nota1 = int(input('Digite sua nota: '))\n",
        "nota2 = int(input('Digite sua nota: '))\n",
        "nota3 = int(input('Digite sua nota: '))\n",
        "media = (nota1 + nota2 + nota3) / 3\n",
        "print('Sua média é: ', media)\n",
        "if (media >= 7):\n",
        "    print('Aprovado')\n",
        "elif (media >=3 and media <=5):\n",
        "  print('Recuperação')\n",
        "else:\n",
        "  print('Reprovado')\n",
        "\n"
      ],
      "metadata": {
        "colab": {
          "base_uri": "https://localhost:8080/"
        },
        "id": "hYyEcBDLYexz",
        "outputId": "d0411b12-333d-425e-ca4b-3b42be9ea4ea"
      },
      "execution_count": 9,
      "outputs": [
        {
          "output_type": "stream",
          "name": "stdout",
          "text": [
            "Digite sua nota: 10\n",
            "Digite sua nota: 9\n",
            "Digite sua nota: 5\n",
            "Sua média é:  8.0\n",
            "Aprovado\n"
          ]
        }
      ]
    },
    {
      "cell_type": "code",
      "source": [
        "num = float(input(\"Digite um numero: \"))\n",
        "if (num <= 10):\n",
        "  print(\"Valor aceito\")\n",
        "  for i in range(1, 11):\n",
        "    print(f\"{num} * {i} = {num*i}\")\n",
        "\n",
        "else:\n",
        "  print(\"Valor acima do esperado, digie um numero menor que 10\")"
      ],
      "metadata": {
        "colab": {
          "base_uri": "https://localhost:8080/"
        },
        "id": "iTqm9cVXhLPC",
        "outputId": "a800a34b-1c34-41f5-d84f-87a078716ca8"
      },
      "execution_count": 36,
      "outputs": [
        {
          "output_type": "stream",
          "name": "stdout",
          "text": [
            "Digite um numero: 5.6\n",
            "Valor aceito\n",
            "5.6 * 1 = 5.6\n",
            "5.6 * 2 = 11.2\n",
            "5.6 * 3 = 16.799999999999997\n",
            "5.6 * 4 = 22.4\n",
            "5.6 * 5 = 28.0\n",
            "5.6 * 6 = 33.599999999999994\n",
            "5.6 * 7 = 39.199999999999996\n",
            "5.6 * 8 = 44.8\n",
            "5.6 * 9 = 50.4\n",
            "5.6 * 10 = 56.0\n"
          ]
        }
      ]
    },
    {
      "cell_type": "code",
      "source": [
        "senha =\"4002-8922\"\n",
        "senhaDigitada = \"\"\n",
        "tentativa = 0\n",
        "while True:\n",
        "  senhaDigitada = input(\"Digite sua senha: \")\n",
        "  if senhaDigitada != \"4002-8922\":\n",
        "    tentativa += 1\n",
        "    print(f\"senha incorreta: tente novamente {tentativa}/3\")\n",
        "    if tentativa == 3:\n",
        "      print(\"tentativas esgotadas\")\n",
        "      break\n",
        "  else:\n",
        "    print(\"senha correta\")\n",
        "    break\n"
      ],
      "metadata": {
        "colab": {
          "base_uri": "https://localhost:8080/"
        },
        "id": "C3fDUqeqkMp9",
        "outputId": "e6b5f989-1fff-4685-9361-1bc060098657"
      },
      "execution_count": 43,
      "outputs": [
        {
          "output_type": "stream",
          "name": "stdout",
          "text": [
            "Digite sua senha: 4002-8922\n",
            "senha correta\n"
          ]
        }
      ]
    },
    {
      "cell_type": "code",
      "source": [
        "nome1 = str(input('Digite o seu nome: '))\n",
        "nome2 = str(input('Digite o seu nome: '))\n",
        "nome3 = str(input('Digite o seu nome: '))\n",
        "\n",
        "nomes = [nome1, nome2, nome3]\n",
        "\n",
        "for nome in nomes:\n",
        "  print(f\"Bem vindo {nome}\")"
      ],
      "metadata": {
        "colab": {
          "base_uri": "https://localhost:8080/"
        },
        "id": "gNil4BnvnFy4",
        "outputId": "cde82124-60ce-4313-d75d-49231a3f912b"
      },
      "execution_count": 51,
      "outputs": [
        {
          "output_type": "stream",
          "name": "stdout",
          "text": [
            "Digite o seu nome: carla\n",
            "Digite o seu nome: joão\n",
            "Digite o seu nome: robson\n",
            "Bem vindo carla\n",
            "Bem vindo joão\n",
            "Bem vindo robson\n"
          ]
        }
      ]
    },
    {
      "cell_type": "code",
      "source": [
        "nomes\n"
      ],
      "metadata": {
        "colab": {
          "base_uri": "https://localhost:8080/"
        },
        "id": "c6yAZMDnozU0",
        "outputId": "69d628b0-8a74-47a3-85b6-006d93921f89"
      },
      "execution_count": 53,
      "outputs": [
        {
          "output_type": "execute_result",
          "data": {
            "text/plain": [
              "['carla', 'joão', 'robson']"
            ]
          },
          "metadata": {},
          "execution_count": 53
        }
      ]
    }
  ]
}