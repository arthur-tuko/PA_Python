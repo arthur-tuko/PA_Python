{
  "nbformat": 4,
  "nbformat_minor": 0,
  "metadata": {
    "colab": {
      "provenance": [],
      "include_colab_link": true
    },
    "kernelspec": {
      "name": "python3",
      "display_name": "Python 3"
    },
    "language_info": {
      "name": "python"
    }
  },
  "cells": [
    {
      "cell_type": "markdown",
      "metadata": {
        "id": "view-in-github",
        "colab_type": "text"
      },
      "source": [
        "<a href=\"https://colab.research.google.com/github/arthur-tuko/PA_Python/blob/main/Aula_PA_1C/Atividade_do_dia_22_08.ipynb\" target=\"_parent\"><img src=\"https://colab.research.google.com/assets/colab-badge.svg\" alt=\"Open In Colab\"/></a>"
      ]
    },
    {
      "cell_type": "markdown",
      "source": [
        "**Exercícios com for, while, listas, strings e dicionários**"
      ],
      "metadata": {
        "id": "5KtSL9tuj-zo"
      }
    },
    {
      "cell_type": "markdown",
      "source": [
        "1) Soma dos números de uma lista\n",
        "\n",
        "Dada a lista numeros = [3, 7, 2, 8, 10], use um for para calcular a soma de todos os elementos."
      ],
      "metadata": {
        "id": "ZZZicFxfkEEg"
      }
    },
    {
      "cell_type": "code",
      "source": [
        "num = [3, 7, 2, 8, 10]\n",
        "soma = 0\n",
        "for i in num:\n",
        "  soma += i\n",
        "print(soma)"
      ],
      "metadata": {
        "id": "F0DURWD3kis6",
        "outputId": "a7100438-b346-4117-971f-c3eb70e07f5a",
        "colab": {
          "base_uri": "https://localhost:8080/"
        }
      },
      "execution_count": 1,
      "outputs": [
        {
          "output_type": "stream",
          "name": "stdout",
          "text": [
            "30\n"
          ]
        }
      ]
    },
    {
      "cell_type": "markdown",
      "source": [
        "2) Contagem de vogais em uma string\n",
        "\n",
        "Peça uma palavra ao usuário e use um for para contar quantas vogais (a, e, i, o, u) existem."
      ],
      "metadata": {
        "id": "Xw8gph7LkL6R"
      }
    },
    {
      "cell_type": "code",
      "source": [
        "vogais = ['a', 'e', 'i', 'o', 'u']\n",
        "palavra = input('Digite uma palavra: ')\n",
        "contador = 0\n",
        "for i in palavra:\n",
        "  if i in vogais:\n",
        "    contador += 1\n",
        "print(f\"Nesta palavra há exatamente {contador} vogais\")"
      ],
      "metadata": {
        "colab": {
          "base_uri": "https://localhost:8080/"
        },
        "id": "iw1dp0aYk9Ub",
        "outputId": "0e052f7d-a938-4516-f2f5-0bd54ece0614"
      },
      "execution_count": 8,
      "outputs": [
        {
          "output_type": "stream",
          "name": "stdout",
          "text": [
            "Digite uma palavra: sei la\n",
            "Nesta palavra há exatamente 3 vogais\n"
          ]
        }
      ]
    },
    {
      "cell_type": "markdown",
      "source": [],
      "metadata": {
        "id": "irD2xL3xkSDN"
      }
    },
    {
      "cell_type": "markdown",
      "source": [
        "3) Inverter lista usando while\n",
        "\n",
        "Dada a lista nomes = [\"Ana\", \"João\", \"Carlos\", \"Maria\"], use um while para inverter a ordem dos elementos (sem usar reverse() ou slicing)."
      ],
      "metadata": {
        "id": "YfW4Aw8ckZw-"
      }
    },
    {
      "cell_type": "code",
      "source": [
        "nomes = [\"Ana\", \"João\", \"Carlos\", \"Maria\"]\n",
        "esquerda = 0\n",
        "direita = len(nomes) - 1\n",
        "\n",
        "while esquerda < direita:\n",
        "  nomes[esquerda], nomes[direita] = nomes[direita], nomes[esquerda]\n",
        "  esquerda += 1\n",
        "  direita -= 1\n",
        "\n",
        "print(nomes)"
      ],
      "metadata": {
        "colab": {
          "base_uri": "https://localhost:8080/"
        },
        "id": "kcQhW4x6l30C",
        "outputId": "6d981618-e977-4eff-bdc1-d8bcad282e76"
      },
      "execution_count": 9,
      "outputs": [
        {
          "output_type": "stream",
          "name": "stdout",
          "text": [
            "['Maria', 'Carlos', 'João', 'Ana']\n"
          ]
        }
      ]
    },
    {
      "cell_type": "markdown",
      "source": [
        "4) Maior número em uma lista\n",
        "\n",
        "Escreva um programa que percorra uma lista de inteiros e encontre o maior valor."
      ],
      "metadata": {
        "id": "cvRuv0PxkkYi"
      }
    },
    {
      "cell_type": "code",
      "source": [
        "numeros = [3, 7, 2, 8, 10, 5]\n",
        "maior_numero = numeros[0]\n",
        "\n",
        "for numero in numeros:\n",
        "  if numero > maior_numero:\n",
        "    maior_numero = numero\n",
        "\n",
        "print(f\"O maior número na lista é: {maior_numero}\")"
      ],
      "metadata": {
        "colab": {
          "base_uri": "https://localhost:8080/"
        },
        "id": "dvTQRvPEmZgp",
        "outputId": "230e712f-68db-49e4-fc69-40c8edbfc58d"
      },
      "execution_count": 10,
      "outputs": [
        {
          "output_type": "stream",
          "name": "stdout",
          "text": [
            "O maior número na lista é: 10\n"
          ]
        }
      ]
    },
    {
      "cell_type": "markdown",
      "source": [
        "5) Remover elementos repetidos de uma lista\n",
        "\n",
        "Usando um for, percorra a lista valores = [1, 2, 2, 3, 4, 4, 5] e crie uma nova lista apenas com elementos únicos."
      ],
      "metadata": {
        "id": "xV6pmOVCkuCm"
      }
    },
    {
      "cell_type": "code",
      "source": [
        "valores = [1, 2, 2, 3, 4, 4, 5]\n",
        "valores_unicos = []\n",
        "\n",
        "for valor in valores:\n",
        "  if valor not in valores_unicos:\n",
        "    valores_unicos.append(valor)\n",
        "    print(valores_unicos)"
      ],
      "metadata": {
        "colab": {
          "base_uri": "https://localhost:8080/"
        },
        "id": "hGzHDUxinIFz",
        "outputId": "0e49dc05-774d-4b4e-e1f4-7c3fc6538c54"
      },
      "execution_count": 11,
      "outputs": [
        {
          "output_type": "stream",
          "name": "stdout",
          "text": [
            "[1]\n",
            "[1, 2]\n",
            "[1, 2, 3]\n",
            "[1, 2, 3, 4]\n",
            "[1, 2, 3, 4, 5]\n"
          ]
        }
      ]
    },
    {
      "cell_type": "markdown",
      "source": [
        "6) Verificar se palavra é palíndromo\n",
        "\n",
        "Peça uma palavra ao usuário e use while ou for para verificar se ela é igual de frente para trás (ex.: \"arara\")."
      ],
      "metadata": {
        "id": "_bHj-pkzk2TX"
      }
    },
    {
      "cell_type": "code",
      "source": [
        "palavra = input(\"Digite uma palavra: \")\n",
        "\n",
        "for i in range(len(palavra) // 2):\n",
        "    if palavra[i] != palavra[-1 - i]:\n",
        "        print(\"Não é um palíndromo.\")\n",
        "        break\n",
        "else:\n",
        "    print(\"É um palíndromo\")"
      ],
      "metadata": {
        "colab": {
          "base_uri": "https://localhost:8080/"
        },
        "id": "OUcbSs5xnlMA",
        "outputId": "d81f0a8d-4599-4aa7-f78d-90f701fa436c"
      },
      "execution_count": 20,
      "outputs": [
        {
          "output_type": "stream",
          "name": "stdout",
          "text": [
            "Digite uma palavra: reinier\n",
            "É um palíndromo\n"
          ]
        }
      ]
    },
    {
      "cell_type": "markdown",
      "source": [
        "# 7) Contagem regressiva com while\n",
        "\n",
        "\n",
        "Peça ao usuário um número e faça uma contagem regressiva até 0."
      ],
      "metadata": {
        "id": "1PeOPJ3ClC0c"
      }
    },
    {
      "cell_type": "code",
      "source": [
        "numero = int(input(\"Digite um número para iniciar a contagem regressiva: \"))\n",
        "\n",
        "while numero >= 0:\n",
        "  print(numero)\n",
        "  numero -= 1"
      ],
      "metadata": {
        "colab": {
          "base_uri": "https://localhost:8080/"
        },
        "id": "LL4f9V78ppds",
        "outputId": "d31c1092-dd2d-42e7-d584-41a8277c76c1"
      },
      "execution_count": 23,
      "outputs": [
        {
          "output_type": "stream",
          "name": "stdout",
          "text": [
            "Digite um número para iniciar a contagem regressiva: 20\n",
            "20\n",
            "19\n",
            "18\n",
            "17\n",
            "16\n",
            "15\n",
            "14\n",
            "13\n",
            "12\n",
            "11\n",
            "10\n",
            "9\n",
            "8\n",
            "7\n",
            "6\n",
            "5\n",
            "4\n",
            "3\n",
            "2\n",
            "1\n",
            "0\n"
          ]
        }
      ]
    },
    {
      "cell_type": "markdown",
      "source": [
        "8) Percorrendo um dicionário de notas\n",
        "\n",
        "Dado o dicionário notas = {\"Ana\": 8, \"Carlos\": 7, \"Maria\": 10}, use um for para exibir cada aluno com sua nota."
      ],
      "metadata": {
        "id": "wKkDTzwelK_f"
      }
    },
    {
      "cell_type": "code",
      "source": [
        "nota = {\"Ana\": 8, \"Carlos\": 7, \"Maria\": 10}\n",
        "for aluno, nota in nota.items():\n",
        "  print(f\"{aluno}: {nota}\")"
      ],
      "metadata": {
        "colab": {
          "base_uri": "https://localhost:8080/"
        },
        "id": "3FgGOcnLqHiX",
        "outputId": "8ee57553-6778-408b-93eb-e44f7668f922"
      },
      "execution_count": 24,
      "outputs": [
        {
          "output_type": "stream",
          "name": "stdout",
          "text": [
            "Ana: 8\n",
            "Carlos: 7\n",
            "Maria: 10\n"
          ]
        }
      ]
    },
    {
      "cell_type": "markdown",
      "source": [
        "9)Filtrar números pares de uma lista\n",
        "\n",
        "Dada a lista numeros = [10, 21, 32, 43, 54], use um for para criar uma nova lista contendo apenas os pares."
      ],
      "metadata": {
        "id": "xrXKbCl7lUQg"
      }
    },
    {
      "cell_type": "code",
      "source": [
        "num = [10, 21, 32, 43, 54]\n",
        "pares = []\n",
        "for i in num:\n",
        "  if i % 2 == 0:\n",
        "    pares.append(i)\n",
        "print(pares)"
      ],
      "metadata": {
        "colab": {
          "base_uri": "https://localhost:8080/"
        },
        "id": "pZHLE-cKqfki",
        "outputId": "6ad822da-f917-4949-8cb6-ed559afb8740"
      },
      "execution_count": 25,
      "outputs": [
        {
          "output_type": "stream",
          "name": "stdout",
          "text": [
            "[10, 32, 54]\n"
          ]
        }
      ]
    },
    {
      "cell_type": "markdown",
      "source": [
        "10) Contador de palavras em uma frase\n",
        "\n",
        "Peça ao usuário uma frase, divida em palavras (split()) e use um dicionário para contar quantas vezes cada palavra aparece."
      ],
      "metadata": {
        "id": "9pzoi0GxlcO8"
      }
    },
    {
      "cell_type": "code",
      "source": [
        "frase = input(\"Digite uma frase: \")\n",
        "palavras = frase.split()\n",
        "contador = {}\n",
        "for palavra in palavras:\n",
        "  if palavra in contador:\n",
        "    contador[palavra] += 1\n",
        "  else:\n",
        "    contador[palavra] = 1\n",
        "print(contador)"
      ],
      "metadata": {
        "colab": {
          "base_uri": "https://localhost:8080/"
        },
        "id": "1SNUMNupqvtd",
        "outputId": "0fe75f40-31a7-44ee-beae-b49c92ac009c"
      },
      "execution_count": 27,
      "outputs": [
        {
          "output_type": "stream",
          "name": "stdout",
          "text": [
            "Digite uma frase: banana\n",
            "{'banana': 1}\n"
          ]
        }
      ]
    }
  ]
}