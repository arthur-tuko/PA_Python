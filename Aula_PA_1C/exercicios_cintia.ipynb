{
  "nbformat": 4,
  "nbformat_minor": 0,
  "metadata": {
    "colab": {
      "provenance": [],
      "include_colab_link": true
    },
    "kernelspec": {
      "name": "python3",
      "display_name": "Python 3"
    },
    "language_info": {
      "name": "python"
    }
  },
  "cells": [
    {
      "cell_type": "markdown",
      "metadata": {
        "id": "view-in-github",
        "colab_type": "text"
      },
      "source": [
        "<a href=\"https://colab.research.google.com/github/arthur-tuko/PA_Python/blob/main/Aula_PA_1C/exercicios_cintia.ipynb\" target=\"_parent\"><img src=\"https://colab.research.google.com/assets/colab-badge.svg\" alt=\"Open In Colab\"/></a>"
      ]
    },
    {
      "cell_type": "markdown",
      "source": [
        "Lista de Exercícios unindo tudo que foi ensinado até o momento:\n",
        "\n",
        "\n",
        "*   Condicionais\n",
        "*   Laços de Reptição\n",
        "*   Listas\n",
        "*   Tuplas\n",
        "*   Dicionários\n",
        "*   Manipulação de Strings\n",
        "\n",
        "\n",
        "\n",
        "\n",
        "\n"
      ],
      "metadata": {
        "id": "JsFcwNObBRcd"
      }
    },
    {
      "cell_type": "markdown",
      "source": [
        "# Tuplas - Acesso e Desempacotamento\n",
        "\n",
        "1) Crie uma tupla contendo três tipos diferentes de dados: um número, uma string e uma lista. Use um laço de repetição para acessar e imprimir cada item da tupla. Além disso, dentro do laço, acesse e imprima o segundo item da lista que está dentro da tupla."
      ],
      "metadata": {
        "id": "HM91bKpkBqGI"
      }
    },
    {
      "cell_type": "code",
      "source": [
        "dados = (24, \"Cíntia\",[1,2,3])\n",
        "\n",
        "for i in dados:\n",
        "  print(i)"
      ],
      "metadata": {
        "colab": {
          "base_uri": "https://localhost:8080/"
        },
        "id": "sCbCOqPVYeRv",
        "outputId": "1562f547-2765-4a1e-dc63-72c47c44eca5"
      },
      "execution_count": null,
      "outputs": [
        {
          "output_type": "stream",
          "name": "stdout",
          "text": [
            "24\n",
            "Cíntia\n",
            "[1, 2, 3]\n"
          ]
        }
      ]
    },
    {
      "cell_type": "code",
      "source": [],
      "metadata": {
        "colab": {
          "base_uri": "https://localhost:8080/"
        },
        "id": "pZ8TJ7EFYsjg",
        "outputId": "421ac61c-a610-4c30-e322-382b944de8df"
      },
      "execution_count": null,
      "outputs": [
        {
          "output_type": "execute_result",
          "data": {
            "text/plain": [
              "tuple"
            ]
          },
          "metadata": {},
          "execution_count": 2
        }
      ]
    },
    {
      "cell_type": "markdown",
      "source": [
        "# Dicionários - Criação e Acesso\n",
        "## Cadastro de Pessoas e Análise de Alturas\n",
        "2) Solicite ao usuário para inserir o nome e a altura de várias pessoas. Preencha um dicionário com essas informações e depois encontre e imprima o nome e a altura da pessoa mais alta e da mais baixa."
      ],
      "metadata": {
        "id": "6vEHxGtjBxMi"
      }
    },
    {
      "cell_type": "code",
      "source": [
        "alturas = {}\n",
        "\n",
        "while True:\n",
        "  nome = input(\"Digite o nome da pessoa para cadastro ou sair: \").lower()\n",
        "\n",
        "  if nome == \"sair\":\n",
        "    pessoasalta = max(alturas, key=alturas.get)\n",
        "    pessoabaixa = min(alturas, key=alturas.get)\n",
        "    break\n",
        "  altura = float(input(f\"Digite a altura de {nome}: \"))\n",
        "\n",
        "  alturas[nome]= altura\n",
        "  print(alturas)\n",
        "\n",
        "print(f\"A pessoa mais alta é {pessoasalta} com altura de {alturas[pessoasalta]}\")\n",
        "print(f\"A pessoa mais baixa é {pessoabaixa} com altura de {alturas[pessoabaixa]}\")\n",
        "\n",
        "\n"
      ],
      "metadata": {
        "id": "MpJYauvTZR69",
        "colab": {
          "base_uri": "https://localhost:8080/"
        },
        "outputId": "023c612e-f792-4ecb-ba57-443ebfbe84ce"
      },
      "execution_count": 33,
      "outputs": [
        {
          "output_type": "stream",
          "name": "stdout",
          "text": [
            "Digite o nome da pessoa para cadastro ou sair: abu\n",
            "Digite a altura de abu: 2\n",
            "{'abu': 2.0}\n",
            "Digite o nome da pessoa para cadastro ou sair: cleiton\n",
            "Digite a altura de cleiton: 1.60\n",
            "{'abu': 2.0, 'cleiton': 1.6}\n",
            "Digite o nome da pessoa para cadastro ou sair: barbara\n",
            "Digite a altura de barbara: 1.90\n",
            "{'abu': 2.0, 'cleiton': 1.6, 'barbara': 1.9}\n",
            "Digite o nome da pessoa para cadastro ou sair: sair\n",
            "A pessoa mais alta é abu com altura de 2.0\n",
            "A pessoa mais baixa é cleiton com altura de 1.6\n"
          ]
        }
      ]
    },
    {
      "cell_type": "markdown",
      "source": [
        "# Lista, laços e Condicionais\n",
        "3) Descrição: Crie uma listacom cinco números inteiros. Use um laço de repetição e uma condicional para imprimir apenas os números que são múltiplos de 3."
      ],
      "metadata": {
        "id": "FytD4QZyELAt"
      }
    },
    {
      "cell_type": "code",
      "source": [
        "lista = []\n",
        "\n",
        "for i in range(5):\n",
        "  numero = int(input(\"digite um numero: \"))\n",
        "  lista.append(numero)\n",
        "  print(lista)\n",
        "\n",
        "for i in lista:\n",
        "  div = lista[0]%3\n",
        "  if div == 0:\n",
        "    print(f\"{i} é multiplo de 3\")\n",
        "  print(div)"
      ],
      "metadata": {
        "colab": {
          "base_uri": "https://localhost:8080/"
        },
        "id": "lQzEX1y2zhFk",
        "outputId": "b947af33-627d-435f-8c50-e2bbb962ce38"
      },
      "execution_count": 34,
      "outputs": [
        {
          "output_type": "stream",
          "name": "stdout",
          "text": [
            "digite um numero: 45\n",
            "[45]\n",
            "digite um numero: 13\n",
            "[45, 13]\n",
            "digite um numero: 1\n",
            "[45, 13, 1]\n",
            "digite um numero: 5\n",
            "[45, 13, 1, 5]\n",
            "digite um numero: 6\n",
            "[45, 13, 1, 5, 6]\n",
            "45 é multiplo de 3\n",
            "0\n",
            "13 é multiplo de 3\n",
            "0\n",
            "1 é multiplo de 3\n",
            "0\n",
            "5 é multiplo de 3\n",
            "0\n",
            "6 é multiplo de 3\n",
            "0\n"
          ]
        }
      ]
    },
    {
      "cell_type": "markdown",
      "source": [
        "# Manipulação de Strings e Condicionais\n",
        "4) Descrição: Crie uma string com uma frase. Use uma condicional para verificar se a frase contém a palavra \"Python\". Se sim, substitua a palavra \"Python\" por \"programação\" e imprima a nova frase."
      ],
      "metadata": {
        "id": "hwn3Fz8aEYSH"
      }
    },
    {
      "cell_type": "code",
      "source": [
        "new = \"\"\n",
        "frase = \"eu programo python\"\n",
        "print(frase)\n",
        "\n",
        "while True:\n",
        "  if \"python\" in frase:\n",
        "    frase = frase.replace(\"python\", \"programação\")\n",
        "    print(frase)\n",
        "    break"
      ],
      "metadata": {
        "colab": {
          "base_uri": "https://localhost:8080/"
        },
        "id": "W-STqwvFzzMM",
        "outputId": "dd6cff93-3a09-487e-e0b3-bc2ec20e8bba"
      },
      "execution_count": 35,
      "outputs": [
        {
          "output_type": "stream",
          "name": "stdout",
          "text": [
            "eu programo em python\n",
            "eu programo em programação\n"
          ]
        }
      ]
    },
    {
      "cell_type": "markdown",
      "source": [
        "# Simulação de Alfândega com Cadastro Dinâmico de Itens usando dicionário\n",
        "5) Simule uma situação de alfândega onde o funcionário cadastra itens novos encontrados na mala de uma pessoa que veio de uma viagem internacional. Após o cadastro de todos os itens, o programa imprime uma nota com todos os itens e seus preços, calcula o valor total e, se o valor total ultrapassar 500 dólares, calcula o valor de 60% a ser pago."
      ],
      "metadata": {
        "id": "hPP-JNTxEwFT"
      }
    },
    {
      "cell_type": "code",
      "source": [
        "cadastro = {}\n",
        "while True:\n",
        "  item = input(\"Digite o nome do item ou sair se deseja sair: \").lower()\n",
        "  if item == \"sair\":\n",
        "    print(\"Cadastro encerrado\")\n",
        "    break\n",
        "  else:\n",
        "    preco = float(input(\"Digite o preço do item: \"))\n",
        "    cadastro[item] = preco"
      ],
      "metadata": {
        "colab": {
          "base_uri": "https://localhost:8080/"
        },
        "id": "OgiSecLupmP8",
        "outputId": "b88de2c3-dfe2-489a-a7ee-f541fd89a11b"
      },
      "execution_count": 24,
      "outputs": [
        {
          "output_type": "stream",
          "name": "stdout",
          "text": [
            "Digite o nome do item ou sair se deseja sair: banana\n",
            "Digite o preço do item: 10\n",
            "Digite o nome do item ou sair se deseja sair: sair\n",
            "Cadastro encerrado\n"
          ]
        }
      ]
    },
    {
      "cell_type": "code",
      "source": [
        "print(\"---------Nota Fiscal---------\")\n",
        "total = 0\n",
        "for item, preco in cadastro.items():\n",
        "  print(f\"{item}: ${preco}\")\n",
        "  total = total + preco\n",
        "print(f\"Total: ${total}\")\n",
        "if total > 500:\n",
        "  print(f\"Valor do imposto: ${total*0.6}\")\n",
        "else:\n",
        "  print(\"Sem imposto\")\n",
        "\n",
        "print(\"-----Total-----\")\n",
        "\n",
        "print(f\"$: {total}\")"
      ],
      "metadata": {
        "colab": {
          "base_uri": "https://localhost:8080/"
        },
        "id": "ccPKsLBXsxh2",
        "outputId": "3705dfd3-7245-4efd-b259-81d51803f990"
      },
      "execution_count": 23,
      "outputs": [
        {
          "output_type": "stream",
          "name": "stdout",
          "text": [
            "---------Nota Fiscal---------\n",
            "arroz: $10.0\n",
            "banana: $5.0\n",
            "celular iphone: $3500.0\n",
            "Total: $3515.0\n",
            "Valor do imposto: $2109.0\n",
            "-----Total-----\n",
            "$: 3515.0\n"
          ]
        }
      ]
    },
    {
      "cell_type": "markdown",
      "source": [
        "# Identificação de Palavras Negativas em um Texto\n",
        "6) Você vai criar um programa em Python para analisar um texto e identificar palavras que expressam pensamentos negativos. Para isso, você usará uma lista de palavras negativas fornecida e verificará quais dessas palavras estão presentes no texto fornecido pelo usuário. Exemplo de palavras negtivas, acrescente mais na lista: # Lista de palavras negativas palavras_negativas = ['triste', 'deprimido', 'ansioso', 'desapontado', 'frustrado']"
      ],
      "metadata": {
        "id": "OH8D047zVsp-"
      }
    },
    {
      "cell_type": "code",
      "source": [
        "negativas =  ['triste', 'deprimido', 'ansioso', 'desapontado', 'frustrado']\n",
        "frase = input(\"Digite sua frase\") .lower()\n",
        "palavra_negativa = False\n",
        "\n",
        "for i in negativas:\n",
        "  if i in frase:\n",
        "    palavra_negativa = True\n",
        "    break\n",
        "\n",
        "if palavra_negativa == True:\n",
        "  print(\"Na sua frase tem palavras negativas\" , negativas)\n",
        "else:\n",
        "  print(\"Na sua frase não tem palavras negativas\")"
      ],
      "metadata": {
        "id": "xDSrYWf_Vr8G"
      },
      "execution_count": null,
      "outputs": []
    }
  ]
}