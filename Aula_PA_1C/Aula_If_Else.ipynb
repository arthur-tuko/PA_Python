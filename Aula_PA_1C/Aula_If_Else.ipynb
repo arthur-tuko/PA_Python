{
  "nbformat": 4,
  "nbformat_minor": 0,
  "metadata": {
    "colab": {
      "provenance": [],
      "authorship_tag": "ABX9TyMDT6K2SXV2WfqOtk+gmfiL",
      "include_colab_link": true
    },
    "kernelspec": {
      "name": "python3",
      "display_name": "Python 3"
    },
    "language_info": {
      "name": "python"
    }
  },
  "cells": [
    {
      "cell_type": "markdown",
      "metadata": {
        "id": "view-in-github",
        "colab_type": "text"
      },
      "source": [
        "<a href=\"https://colab.research.google.com/github/arthur-tuko/PA_Python/blob/main/Aula_PA_1C/Aula_If_Else.ipynb\" target=\"_parent\"><img src=\"https://colab.research.google.com/assets/colab-badge.svg\" alt=\"Open In Colab\"/></a>"
      ]
    },
    {
      "cell_type": "code",
      "source": [
        "#ano bisexto\n",
        "\n",
        "##entrada\n",
        "ano = int(input('Digite o ano:  '))\n",
        "\n",
        "##Entrada\n",
        "if (ano % 4 == 0 and ano % 100 != 0) or (ano % 400 == 0):\n",
        "    print('O ano é bissexto')\n",
        "else:\n",
        "    print(f'O ano não é bissexto')\n"
      ],
      "metadata": {
        "colab": {
          "base_uri": "https://localhost:8080/"
        },
        "id": "-9nT8b4o3YOU",
        "outputId": "a7a01e69-4291-4801-ff90-9d88c3ec4ac3"
      },
      "execution_count": null,
      "outputs": [
        {
          "output_type": "stream",
          "name": "stdout",
          "text": [
            "Digite o ano:  44444444444444444444444444\n",
            "O ano é bissexto\n"
          ]
        }
      ]
    },
    {
      "cell_type": "code",
      "source": [
        "#idade\n",
        "##entrada\n",
        "idade = int(input('Digite a idade:  '))\n",
        "\n",
        "#processamento\n",
        "\n",
        "if (idade>0 and idade<20):\n",
        "    print('Você é jovem')\n",
        "elif (idade>=20 and idade<60):\n",
        "    print('Você é adulto')\n",
        "else:\n",
        "    print('Você é idoso')"
      ],
      "metadata": {
        "colab": {
          "base_uri": "https://localhost:8080/"
        },
        "id": "rfJ3LpVO6m_S",
        "outputId": "6d79a429-c531-4064-9c27-57d6c93c6609"
      },
      "execution_count": null,
      "outputs": [
        {
          "output_type": "stream",
          "name": "stdout",
          "text": [
            "Digite a idade:  42426346455745785785757464\n",
            "Você é idoso\n"
          ]
        }
      ]
    },
    {
      "cell_type": "code",
      "source": [
        "#Numero do intervalo\n",
        "\n",
        "##Entrada\n",
        "num = int(input('Digite um numero:  '))\n",
        "\n",
        "#processamento\n",
        "\n",
        "if (num>20 and num < 100):\n",
        "  print('O numero está no intervalo')\n",
        "else:\n",
        "  print('O numero não está no intervalo')"
      ],
      "metadata": {
        "colab": {
          "base_uri": "https://localhost:8080/"
        },
        "id": "yp4b22IJ9bGz",
        "outputId": "1b4f3411-1799-4069-a932-6e0f7b2c3aa1"
      },
      "execution_count": null,
      "outputs": [
        {
          "output_type": "stream",
          "name": "stdout",
          "text": [
            "Digite um numero:  21\n",
            "O numero está no intervalo\n"
          ]
        }
      ]
    },
    {
      "cell_type": "code",
      "source": [
        "##Impar ou par\n",
        "##entrada\n",
        "num = int(input('Digite um numero:  '))\n",
        "\n",
        "#processamento\n",
        "if (num % 2 == 0):\n",
        "  print('O numero é par')\n",
        "else:\n",
        "  print('O numero é impar')"
      ],
      "metadata": {
        "colab": {
          "base_uri": "https://localhost:8080/"
        },
        "id": "qNYyQNzQApZ6",
        "outputId": "ccbc963b-c51c-42f0-eda4-6ed9cf52c971"
      },
      "execution_count": null,
      "outputs": [
        {
          "output_type": "stream",
          "name": "stdout",
          "text": [
            "Digite um numero:  1\n",
            "O numero é impar\n"
          ]
        }
      ]
    },
    {
      "cell_type": "code",
      "source": [
        "##Entrada\n",
        "lado1 = int(input('Digite o lado 1:  '))\n",
        "lado2 = int(input('Digite o lado 2:  '))\n",
        "lado3 = int(input('Digite o lado 3:  '))\n",
        "\n",
        "#processamento\n",
        "if (lado1 == lado2 == lado3):\n",
        "  print('O triangulo é equilatero')\n",
        "\n",
        "elif (lado1 == lado2 or lado1 == lado3 or lado2 == lado3):\n",
        "  print('O triangulo é isóceles')\n",
        "else:\n",
        "  print('O triangulo é escaleno')"
      ],
      "metadata": {
        "colab": {
          "base_uri": "https://localhost:8080/"
        },
        "id": "2FPt0kniBswV",
        "outputId": "297729aa-ed75-40fd-a5c1-146f0f1e9b2c"
      },
      "execution_count": null,
      "outputs": [
        {
          "output_type": "stream",
          "name": "stdout",
          "text": [
            "Digite o lado 1:  12\n",
            "Digite o lado 2:  12\n",
            "Digite o lado 3:  12\n",
            "O triangulo é equilatero\n"
          ]
        }
      ]
    },
    {
      "cell_type": "code",
      "source": [
        "#Entrada\n",
        "altura = float(input('Digite a altura:  '))\n",
        "peso = float(input('Digite o peso:  '))\n",
        "\n",
        "#processamento\n",
        "imc = peso / altura**2\n",
        "\n",
        "if (imc < 18.5):\n",
        "  print('Abaixo do peso')\n",
        "elif (imc >= 18.5 and imc < 24.9):\n",
        "  print('Peso normal')\n",
        "elif (imc >= 25 and imc < 29.9):\n",
        "    print('Sobrepeso')\n",
        "elif (imc >= 30 and imc < 40):\n",
        "    print('Obesidade')\n",
        "else:\n",
        "    print('Obesidade mórbida')\n"
      ],
      "metadata": {
        "colab": {
          "base_uri": "https://localhost:8080/"
        },
        "id": "TgQvH6eFCzau",
        "outputId": "95090e56-fdfb-4576-8a82-b0fa22f1ebb9"
      },
      "execution_count": null,
      "outputs": [
        {
          "output_type": "stream",
          "name": "stdout",
          "text": [
            "Digite a altura:  1.75\n",
            "Digite o peso:  2\n",
            "Abaixo do peso\n"
          ]
        }
      ]
    },
    {
      "cell_type": "code",
      "source": [
        "#Entrada\n",
        "altura = float(input('Escreva a altura:  '))\n",
        "idade = float(input('Escreva o idade:  '))\n",
        "\n",
        "#processamento\n",
        "if (idade >= 18 and altura >= 1.75):\n",
        "  print('Pode entrar')\n",
        "else:\n",
        "  print('Não pode entrar')"
      ],
      "metadata": {
        "colab": {
          "base_uri": "https://localhost:8080/"
        },
        "id": "JvvZ3HShDWWD",
        "outputId": "6bde22de-f1bc-4746-8536-610a7a079591"
      },
      "execution_count": null,
      "outputs": [
        {
          "output_type": "stream",
          "name": "stdout",
          "text": [
            "Escreva a altura:  1.75\n",
            "Escreva o idade:  17\n",
            "Não pode entrar\n"
          ]
        }
      ]
    },
    {
      "cell_type": "code",
      "source": [
        "#Entrada\n",
        "valor_empréstimo = float(input('Digite o valor do empréstimo:  '))\n",
        "salario_mensal = float(input('Digite o salário:  '))\n",
        "num_parcelas = int(input('Digite o número de parcelas:  '))\n",
        "valor_parcela = valor_empréstimo / num_parcelas\n",
        "\n",
        "#processamento\n",
        "if (valor_parcela/num_parcelas >= salario_mensal * 0.3):\n",
        "  print('Empréstimo aprovado')\n",
        "else:\n",
        "  print('Empréstimo negado')"
      ],
      "metadata": {
        "colab": {
          "base_uri": "https://localhost:8080/"
        },
        "id": "EfnemYLeEYni",
        "outputId": "15bc9f9f-df41-4c3e-990a-8afc50272d85"
      },
      "execution_count": null,
      "outputs": [
        {
          "output_type": "stream",
          "name": "stdout",
          "text": [
            "Digite o valor do empréstimo:  3000000\n",
            "Digite o salário:  1400\n",
            "Digite o número de parcelas:  700\n",
            "Empréstimo negado\n"
          ]
        }
      ]
    },
    {
      "cell_type": "code",
      "source": [
        "##caixa\n",
        "\n",
        "##Entrada\n",
        "usuario = input('Digite o usuário:  ')\n",
        "senha = input('Digite a senha:  ')\n",
        "\n",
        "#processamento\n",
        "if (usuario == 'cliente' and senha == '1234'):\n",
        "  print('Acesso permitido')\n",
        "  print('Bem vindo ao sistema')\n",
        "elif (usuario == 'cliente' and senha != '1234'):\n",
        "  print('Senha errada, tente novamente')\n",
        "elif (usuario != 'cliente' and senha == '1234'):\n",
        "  print('Usuario errado1, tente novamente')\n",
        "else:\n",
        "  print('Acesso negado, tente novamente  ')"
      ],
      "metadata": {
        "colab": {
          "base_uri": "https://localhost:8080/"
        },
        "id": "EirCXnT92eJG",
        "outputId": "ad33b02e-ee56-485b-908f-6d9884e71607"
      },
      "execution_count": 12,
      "outputs": [
        {
          "output_type": "stream",
          "name": "stdout",
          "text": [
            "Digite o usuário:  cliente\n",
            "Digite a senha:  1234\n",
            "Acesso permitido\n",
            "Bem vindo ao sistema\n"
          ]
        }
      ]
    },
    {
      "cell_type": "code",
      "source": [
        "##caixa\n",
        "\n",
        "##Entrada\n",
        "usuario = input('Digite o usuário:  ')\n",
        "senha = input('Digite a senha:  ')\n",
        "\n",
        "#processamento\n",
        "if (usuario == 'cliente' and senha == '1234'):\n",
        "    print('Acesso permitido')\n",
        "    print('Bem vindo ao sistema')\n",
        "    Escolha = (input('Digite 1 para sacar, 2 para depositar e 3 para ver o saldo:  '))\n",
        "    saldo = -50.00\n",
        "    limite = 3000\n",
        "\n",
        "\n",
        "    if (Escolha == '1'):\n",
        "        saque = float(input('Digite o valor do saque:  '))\n",
        "        if (saque > saldo + limite):\n",
        "            print('Saldo insuficiente')\n",
        "        elif (saque > limite):\n",
        "            print('Valor acima do limite permitido para saque')\n",
        "        else:\n",
        "            saldo -= saque\n",
        "            print(f'Saque realizado com sucesso! Seu novo saldo é {saldo}')\n",
        "            if (saldo < 0):\n",
        "                print('Saldo negativo')\n",
        "            else:\n",
        "                print('Saldo positivo')\n",
        "\n",
        "    elif (Escolha == '2'):\n",
        "        deposito = float(input('Digite o valor do depósito:  '))\n",
        "        saldo += deposito\n",
        "        print(f'Depósito realizado com sucesso! Seu novo saldo é {saldo}')\n",
        "\n",
        "\n",
        "    elif (Escolha == '3'):\n",
        "        print(f'Seu saldo é {saldo}')\n",
        "    else:\n",
        "        print('Opção inválida')\n",
        "\n",
        "elif (usuario == 'cliente' and senha != '1234'):\n",
        "    print('Senha errada, tente novamente')\n",
        "elif (usuario != 'cliente' and senha == '1234'):\n",
        "    print('Usuario errado1, tente novamente')\n",
        "else:\n",
        "    print('Acesso negado, tente novamente  ')"
      ],
      "metadata": {
        "colab": {
          "base_uri": "https://localhost:8080/"
        },
        "id": "ed4NYgek4rTg",
        "outputId": "59b743ec-d7d2-4e3f-9a36-05003af6aea3"
      },
      "execution_count": 132,
      "outputs": [
        {
          "output_type": "stream",
          "name": "stdout",
          "text": [
            "Digite o usuário:  clkiente \n",
            "Digite a senha:  234567\n",
            "Acesso negado, tente novamente  \n"
          ]
        }
      ]
    }
  ]
}