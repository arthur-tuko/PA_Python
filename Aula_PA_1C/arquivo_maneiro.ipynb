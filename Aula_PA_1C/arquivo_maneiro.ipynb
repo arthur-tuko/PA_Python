{
  "nbformat": 4,
  "nbformat_minor": 0,
  "metadata": {
    "colab": {
      "provenance": [],
      "authorship_tag": "ABX9TyPx/RpqpDTw7pN1Ggi9cuWC",
      "include_colab_link": true
    },
    "kernelspec": {
      "name": "python3",
      "display_name": "Python 3"
    },
    "language_info": {
      "name": "python"
    }
  },
  "cells": [
    {
      "cell_type": "markdown",
      "metadata": {
        "id": "view-in-github",
        "colab_type": "text"
      },
      "source": [
        "<a href=\"https://colab.research.google.com/github/arthur-tuko/PA_Python/blob/main/Aula_PA_1C/arquivo_maneiro.ipynb\" target=\"_parent\"><img src=\"https://colab.research.google.com/assets/colab-badge.svg\" alt=\"Open In Colab\"/></a>"
      ]
    },
    {
      "cell_type": "code",
      "execution_count": 2,
      "metadata": {
        "id": "3nIfCjIrxdrw",
        "colab": {
          "base_uri": "https://localhost:8080/"
        },
        "outputId": "056389da-5f18-4966-ce82-319bc1eea5f8"
      },
      "outputs": [
        {
          "output_type": "execute_result",
          "data": {
            "text/plain": [
              "2"
            ]
          },
          "metadata": {},
          "execution_count": 2
        }
      ],
      "source": [
        "# soma\n",
        "1+1"
      ]
    },
    {
      "cell_type": "code",
      "source": [
        "# subtração\n",
        "5-3"
      ],
      "metadata": {
        "colab": {
          "base_uri": "https://localhost:8080/"
        },
        "id": "CnCxpZ8Gx1YC",
        "outputId": "67998d6d-28ea-4b90-8f55-b4bedbb44a18"
      },
      "execution_count": 3,
      "outputs": [
        {
          "output_type": "execute_result",
          "data": {
            "text/plain": [
              "2"
            ]
          },
          "metadata": {},
          "execution_count": 3
        }
      ]
    },
    {
      "cell_type": "code",
      "source": [
        "# multiplicação\n",
        "3*4"
      ],
      "metadata": {
        "colab": {
          "base_uri": "https://localhost:8080/"
        },
        "id": "LISWQ5NjyDeL",
        "outputId": "aabedcee-0c37-4dd1-a8da-8590de5e1dea"
      },
      "execution_count": 4,
      "outputs": [
        {
          "output_type": "execute_result",
          "data": {
            "text/plain": [
              "12"
            ]
          },
          "metadata": {},
          "execution_count": 4
        }
      ]
    },
    {
      "cell_type": "code",
      "source": [
        "#divisão\n",
        "6/2"
      ],
      "metadata": {
        "colab": {
          "base_uri": "https://localhost:8080/"
        },
        "id": "1cqQiiLkyTDz",
        "outputId": "86caca20-ef25-45a8-8afd-39fd0c14ccb4"
      },
      "execution_count": 6,
      "outputs": [
        {
          "output_type": "execute_result",
          "data": {
            "text/plain": [
              "3.0"
            ]
          },
          "metadata": {},
          "execution_count": 6
        }
      ]
    },
    {
      "cell_type": "code",
      "source": [
        "# expoente\n",
        "2**3"
      ],
      "metadata": {
        "colab": {
          "base_uri": "https://localhost:8080/"
        },
        "id": "xi3OZZ39zNgd",
        "outputId": "5cec5bf2-1a94-4621-8ed4-e1dc21d2b5ac"
      },
      "execution_count": 11,
      "outputs": [
        {
          "output_type": "execute_result",
          "data": {
            "text/plain": [
              "8"
            ]
          },
          "metadata": {},
          "execution_count": 11
        }
      ]
    },
    {
      "cell_type": "code",
      "source": [
        "soma = 5+7"
      ],
      "metadata": {
        "id": "9J75YYik1D7p"
      },
      "execution_count": 17,
      "outputs": []
    },
    {
      "cell_type": "code",
      "source": [
        "print ('A soma é igual a', soma)"
      ],
      "metadata": {
        "colab": {
          "base_uri": "https://localhost:8080/"
        },
        "id": "N3_ROqBU1LVy",
        "outputId": "06bfe999-24d7-4565-eb66-90fec8bcc1e5"
      },
      "execution_count": 18,
      "outputs": [
        {
          "output_type": "stream",
          "name": "stdout",
          "text": [
            "A soma é igual a 12\n"
          ]
        }
      ]
    },
    {
      "cell_type": "code",
      "source": [
        "soma = soma + 2"
      ],
      "metadata": {
        "id": "0NmPikSl1YU5"
      },
      "execution_count": 19,
      "outputs": []
    },
    {
      "cell_type": "code",
      "source": [
        "print ('A soma agora é', soma)"
      ],
      "metadata": {
        "colab": {
          "base_uri": "https://localhost:8080/"
        },
        "id": "XiP8j4EI1bMV",
        "outputId": "92f6f4f4-30a6-481f-c3ba-3dd0170ba89f"
      },
      "execution_count": 20,
      "outputs": [
        {
          "output_type": "stream",
          "name": "stdout",
          "text": [
            "A soma agora é 14\n"
          ]
        }
      ]
    },
    {
      "cell_type": "code",
      "source": [
        "soma = (7456*3)/6"
      ],
      "metadata": {
        "id": "AbaraQg43WqV"
      },
      "execution_count": 24,
      "outputs": []
    },
    {
      "cell_type": "code",
      "source": [
        "print ('agora o valor é', soma)"
      ],
      "metadata": {
        "colab": {
          "base_uri": "https://localhost:8080/"
        },
        "id": "KbkXNlua3rCX",
        "outputId": "4284f4f0-3097-4006-b119-c5a349bd17e4"
      },
      "execution_count": 25,
      "outputs": [
        {
          "output_type": "stream",
          "name": "stdout",
          "text": [
            "agora o valor é 3728.0\n"
          ]
        }
      ]
    },
    {
      "cell_type": "code",
      "source": [
        "# Calcular área do quadrado\n",
        "##Entrada\n",
        "lado = float(input('digite o lado do quadrado'))\n",
        "\n",
        "##Processamento\n",
        "area = lado * lado\n",
        "##Saída\n",
        "print ('A área do quadrado é', area, 'cm2')"
      ],
      "metadata": {
        "colab": {
          "base_uri": "https://localhost:8080/"
        },
        "id": "8onH8TVF6l8-",
        "outputId": "7d8f7512-6625-4ef1-c1c5-1ffac055276e"
      },
      "execution_count": 32,
      "outputs": [
        {
          "output_type": "stream",
          "name": "stdout",
          "text": [
            "digite o lado do quadrado9999999999999999999999999999\n",
            "A área do quadrado é 9.999999999999999e+55 cm2\n"
          ]
        }
      ]
    }
  ]
}