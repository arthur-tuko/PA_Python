{
  "nbformat": 4,
  "nbformat_minor": 0,
  "metadata": {
    "colab": {
      "provenance": [],
      "authorship_tag": "ABX9TyMRV5wip2YeTDZJJQqOTyRP",
      "include_colab_link": true
    },
    "kernelspec": {
      "name": "python3",
      "display_name": "Python 3"
    },
    "language_info": {
      "name": "python"
    }
  },
  "cells": [
    {
      "cell_type": "markdown",
      "metadata": {
        "id": "view-in-github",
        "colab_type": "text"
      },
      "source": [
        "<a href=\"https://colab.research.google.com/github/arthur-tuko/PA_Python/blob/main/Aula_PA_1C/strings.ipynb\" target=\"_parent\"><img src=\"https://colab.research.google.com/assets/colab-badge.svg\" alt=\"Open In Colab\"/></a>"
      ]
    },
    {
      "cell_type": "code",
      "execution_count": 2,
      "metadata": {
        "colab": {
          "base_uri": "https://localhost:8080/"
        },
        "id": "-AXFM1hPSZUH",
        "outputId": "9bbe06b4-6578-4f53-d3cf-d280e031d743"
      },
      "outputs": [
        {
          "output_type": "stream",
          "name": "stdout",
          "text": [
            "11\n"
          ]
        }
      ],
      "source": [
        "x = \"Hello World\"\n",
        "print(len(x))"
      ]
    },
    {
      "cell_type": "code",
      "source": [
        "txt = \"Hello World\"\n",
        "x[0]"
      ],
      "metadata": {
        "colab": {
          "base_uri": "https://localhost:8080/",
          "height": 35
        },
        "id": "QTtOZNLRfdij",
        "outputId": "04bc6880-bce6-4fb1-d15d-c34fe3adf5da"
      },
      "execution_count": 4,
      "outputs": [
        {
          "output_type": "execute_result",
          "data": {
            "text/plain": [
              "'H'"
            ],
            "application/vnd.google.colaboratory.intrinsic+json": {
              "type": "string"
            }
          },
          "metadata": {},
          "execution_count": 4
        }
      ]
    },
    {
      "cell_type": "code",
      "source": [
        "txt = \"Hello World\"\n",
        "x = txt[2:5]\n",
        "print(x)\n"
      ],
      "metadata": {
        "colab": {
          "base_uri": "https://localhost:8080/"
        },
        "id": "ncm2BdmfgLe_",
        "outputId": "be72d58e-a92c-4ecb-b4f1-15ee78850b5e"
      },
      "execution_count": 8,
      "outputs": [
        {
          "output_type": "stream",
          "name": "stdout",
          "text": [
            "llo\n"
          ]
        }
      ]
    },
    {
      "cell_type": "code",
      "source": [
        "txt = \"Hello World\"\n",
        "txt.upper()"
      ],
      "metadata": {
        "colab": {
          "base_uri": "https://localhost:8080/",
          "height": 35
        },
        "id": "OdZlhnXNgkiQ",
        "outputId": "d854c370-bf62-45c1-dab3-e5c32b9431f3"
      },
      "execution_count": 9,
      "outputs": [
        {
          "output_type": "execute_result",
          "data": {
            "text/plain": [
              "'HELLO WORLD'"
            ],
            "application/vnd.google.colaboratory.intrinsic+json": {
              "type": "string"
            }
          },
          "metadata": {},
          "execution_count": 9
        }
      ]
    },
    {
      "cell_type": "code",
      "source": [
        "txt = \"Eu gosto de vijar, tomar vinho, de estudar estudar programação, de estudar Pyhon\"\n"
      ],
      "metadata": {
        "id": "aacO8m5fgyij"
      },
      "execution_count": 10,
      "outputs": []
    },
    {
      "cell_type": "code",
      "source": [
        "txt.count('de')"
      ],
      "metadata": {
        "colab": {
          "base_uri": "https://localhost:8080/"
        },
        "id": "VIcDyY8Dg3x4",
        "outputId": "a8a33632-8138-4695-c3ea-a1a26cf0320a"
      },
      "execution_count": 12,
      "outputs": [
        {
          "output_type": "execute_result",
          "data": {
            "text/plain": [
              "3"
            ]
          },
          "metadata": {},
          "execution_count": 12
        }
      ]
    },
    {
      "cell_type": "code",
      "source": [
        "txt = \"Eu gosto de vijar, tomar vinho, de estudar estudar programação, de estudar Pyhon\""
      ],
      "metadata": {
        "id": "yt4y1_DbhM7O"
      },
      "execution_count": 13,
      "outputs": []
    },
    {
      "cell_type": "code",
      "source": [
        "txt.split(',')"
      ],
      "metadata": {
        "colab": {
          "base_uri": "https://localhost:8080/"
        },
        "id": "84DmEAuThVMX",
        "outputId": "890938bd-9392-48b9-eb0a-be48d8f14e78"
      },
      "execution_count": 14,
      "outputs": [
        {
          "output_type": "execute_result",
          "data": {
            "text/plain": [
              "['Eu gosto de vijar',\n",
              " ' tomar vinho',\n",
              " ' de estudar estudar programação',\n",
              " ' de estudar Pyhon']"
            ]
          },
          "metadata": {},
          "execution_count": 14
        }
      ]
    },
    {
      "cell_type": "code",
      "source": [
        "nome = str(input('Digite seu nome completo: '))\n",
        "print(nome.upper())\n",
        "print(nome.lower())\n",
        "dor = (\"\".join(nome.split(\" \")))\n",
        "print(len(dor))\n",
        "len(nome.split()[0])\n",
        "\n",
        "vogal == ('a','e','i','o','u')\n",
        "total_vogal = 0\n",
        "for v in vogal:\n",
        "    total_vogal += nome.lower().count(v)\n",
        "print(total_vogal)\n"
      ],
      "metadata": {
        "colab": {
          "base_uri": "https://localhost:8080/"
        },
        "id": "EyekySK5ivOQ",
        "outputId": "9c9a6a0f-d596-4207-924d-e79827efb675"
      },
      "execution_count": 43,
      "outputs": [
        {
          "output_type": "stream",
          "name": "stdout",
          "text": [
            "Digite seu nome completo: arthur franco dos santos\n",
            "ARTHUR FRANCO DOS SANTOS\n",
            "arthur franco dos santos\n",
            "21\n",
            "7\n"
          ]
        }
      ]
    }
  ]
}