{
  "nbformat": 4,
  "nbformat_minor": 0,
  "metadata": {
    "colab": {
      "provenance": [],
      "authorship_tag": "ABX9TyMf/DdLVJ4zTd5QFtl/CGuK",
      "include_colab_link": true
    },
    "kernelspec": {
      "name": "python3",
      "display_name": "Python 3"
    },
    "language_info": {
      "name": "python"
    }
  },
  "cells": [
    {
      "cell_type": "markdown",
      "metadata": {
        "id": "view-in-github",
        "colab_type": "text"
      },
      "source": [
        "<a href=\"https://colab.research.google.com/github/arthur-tuko/PA_Python/blob/main/Aula_PA_1C/Fun%C3%A7%C3%A3o.ipynb\" target=\"_parent\"><img src=\"https://colab.research.google.com/assets/colab-badge.svg\" alt=\"Open In Colab\"/></a>"
      ]
    },
    {
      "cell_type": "code",
      "execution_count": 17,
      "metadata": {
        "id": "mm3GCs8zzEmR"
      },
      "outputs": [],
      "source": [
        "def abu(fruta):\n",
        "  print(f\"fruta favorita: {fruta}\")"
      ]
    },
    {
      "cell_type": "code",
      "source": [
        "abu(\"banana\")"
      ],
      "metadata": {
        "colab": {
          "base_uri": "https://localhost:8080/"
        },
        "id": "HZjfeUwozjq8",
        "outputId": "e5f789e0-58aa-427c-bd6a-5f3305376ade"
      },
      "execution_count": 18,
      "outputs": [
        {
          "output_type": "stream",
          "name": "stdout",
          "text": [
            "fruta favorita: banana\n"
          ]
        }
      ]
    },
    {
      "cell_type": "code",
      "source": [
        "import pytz\n",
        "from datetime import datetime\n",
        "\n",
        "def horario_brasil():\n",
        "\n",
        "    fuso_horario_brasil = pytz.timezone('America/Sao_Paulo')\n",
        "\n",
        "    hora_brasil = datetime.now(fuso_horario_brasil)\n",
        "\n",
        "    hora_formatada = hora_brasil.strftime('%H:%M:%S')\n",
        "\n",
        "    return hora_formatada"
      ],
      "metadata": {
        "id": "ZnwporP91DDX"
      },
      "execution_count": 78,
      "outputs": []
    },
    {
      "cell_type": "code",
      "source": [
        "print(\"Horário atual no Brasil:\", horario_brasil())"
      ],
      "metadata": {
        "colab": {
          "base_uri": "https://localhost:8080/"
        },
        "id": "dOxpxDAJ1hfm",
        "outputId": "edb698fc-b035-4163-c44b-334bf324bbe7"
      },
      "execution_count": 81,
      "outputs": [
        {
          "output_type": "stream",
          "name": "stdout",
          "text": [
            "Horário atual no Brasil: 11:16:00\n"
          ]
        }
      ]
    },
    {
      "cell_type": "code",
      "source": [
        "def verificar_paridade():\n",
        "  numero = int(input(\"Digite um número: \"))\n",
        "  try:\n",
        "   if numero % 2 == 0:\n",
        "    print(f\"{numero} é um número par.\")\n",
        "   else:\n",
        "    print(f\"{numero} é um número ímpar.\")\n",
        "  except ValueError:\n",
        "    print(\"Por favor, digite um número válido.\")"
      ],
      "metadata": {
        "id": "wWK2Y4R_4U79"
      },
      "execution_count": 92,
      "outputs": []
    },
    {
      "cell_type": "code",
      "source": [
        "verificar_paridade()"
      ],
      "metadata": {
        "colab": {
          "base_uri": "https://localhost:8080/"
        },
        "id": "SFkofeP34cb5",
        "outputId": "6e523b30-5567-4d0c-be80-0e9b0ec0026a"
      },
      "execution_count": 93,
      "outputs": [
        {
          "output_type": "stream",
          "name": "stdout",
          "text": [
            "Digite um número: 7835353535435\n",
            "7835353535435 é um número ímpar.\n"
          ]
        }
      ]
    },
    {
      "cell_type": "code",
      "source": [
        "def somas(a, b):\n",
        "  return a + b\n",
        "\n",
        "def calcular_media(n1, n2):\n",
        "  soma = somas(n1, n2)\n",
        "  media = soma / 2\n",
        "  return media\n",
        "\n",
        "nota1 = float(input(\"Digite a primeira nota: \"))\n",
        "nota2 = float(input(\"Digite a segunda nota: \"))\n",
        "resultado = calcular_media(nota1, nota2)\n",
        "print(f\"A média das notas é: {resultado}\")\n",
        "\n"
      ],
      "metadata": {
        "colab": {
          "base_uri": "https://localhost:8080/"
        },
        "id": "oNVk2GhM5iLl",
        "outputId": "3ea4666f-4a85-4aa8-f7b9-522e1e950893"
      },
      "execution_count": 118,
      "outputs": [
        {
          "output_type": "stream",
          "name": "stdout",
          "text": [
            "Digite a primeira nota: 10\n",
            "Digite a segunda nota: 7\n",
            "A média das notas é: 8.5\n"
          ]
        }
      ]
    },
    {
      "cell_type": "code",
      "source": [
        "def calcular_total(quant, preço_unitario):\n",
        "  total = quant * preço_unitario\n",
        "  return total\n",
        "\n",
        "quant = int(input(\"Digite a quantidade: \"))\n",
        "preço_unitario = float(input(\"Digite o preço unitário: \"))\n",
        "print(f\"O total a ser pago é: {calcular_total(quant, preço_unitario):.2f}\")"
      ],
      "metadata": {
        "colab": {
          "base_uri": "https://localhost:8080/"
        },
        "id": "T_FLA3c3BkIF",
        "outputId": "6d8ce5dd-87cb-4772-f410-2ac1382d4091"
      },
      "execution_count": 129,
      "outputs": [
        {
          "output_type": "stream",
          "name": "stdout",
          "text": [
            "Digite a quantidade: 4\n",
            "Digite o preço unitário: 100\n",
            "O total a ser pago é: 400.00\n"
          ]
        }
      ]
    }
  ]
}