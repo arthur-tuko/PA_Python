{
  "nbformat": 4,
  "nbformat_minor": 0,
  "metadata": {
    "colab": {
      "provenance": [],
      "authorship_tag": "ABX9TyMiEBUIBNplzNnVHoRdKOJ6",
      "include_colab_link": true
    },
    "kernelspec": {
      "name": "python3",
      "display_name": "Python 3"
    },
    "language_info": {
      "name": "python"
    }
  },
  "cells": [
    {
      "cell_type": "markdown",
      "metadata": {
        "id": "view-in-github",
        "colab_type": "text"
      },
      "source": [
        "<a href=\"https://colab.research.google.com/github/arthur-tuko/PA_Python/blob/main/Aula_PA_1C/Exerc%C3%ADciosDeTuplas%2CStringsEListas.ipynb\" target=\"_parent\"><img src=\"https://colab.research.google.com/assets/colab-badge.svg\" alt=\"Open In Colab\"/></a>"
      ]
    },
    {
      "cell_type": "code",
      "execution_count": 2,
      "metadata": {
        "id": "nUts9cMwaWZI"
      },
      "outputs": [],
      "source": [
        "# Exercício 1 inserir os seus dados acima em variáveis\n",
        "#Exemplo\n",
        "nome = \"Arthur Franco\"\n",
        "Turma = \"Manhã\""
      ]
    },
    {
      "cell_type": "code",
      "source": [
        "nome[7:]"
      ],
      "metadata": {
        "colab": {
          "base_uri": "https://localhost:8080/",
          "height": 35
        },
        "id": "PJE0LaJxbZqb",
        "outputId": "4c9fb23d-764a-41a1-87e1-ee06a209586c"
      },
      "execution_count": 6,
      "outputs": [
        {
          "output_type": "execute_result",
          "data": {
            "text/plain": [
              "'Franco'"
            ],
            "application/vnd.google.colaboratory.intrinsic+json": {
              "type": "string"
            }
          },
          "metadata": {},
          "execution_count": 6
        }
      ]
    },
    {
      "cell_type": "code",
      "source": [
        "nome[::-1]"
      ],
      "metadata": {
        "colab": {
          "base_uri": "https://localhost:8080/",
          "height": 35
        },
        "id": "XRRJd03CbxJF",
        "outputId": "a1065692-eb9d-4200-8117-769af64066b9"
      },
      "execution_count": 8,
      "outputs": [
        {
          "output_type": "execute_result",
          "data": {
            "text/plain": [
              "'ocnarF ruhtrA'"
            ],
            "application/vnd.google.colaboratory.intrinsic+json": {
              "type": "string"
            }
          },
          "metadata": {},
          "execution_count": 8
        }
      ]
    },
    {
      "cell_type": "code",
      "source": [
        "frase = \"Python é a linguagem ideal para o primeiro contato com programação, além da sua sintaxe simples e muito poderosa, Python tem diversas aplicações como: desenvolvimento web, análise de dados, inteligência artificial e automatização de tarefas, neste curso você aprenderá a lógica de programação para conquistar fluência na linguagem, a comunidade Python é a que mais cresce, assim como sua demanda de profissionais no mercado.\""
      ],
      "metadata": {
        "id": "QO3Q7i5lcAEM"
      },
      "execution_count": 9,
      "outputs": []
    },
    {
      "cell_type": "code",
      "source": [
        "frase.split()"
      ],
      "metadata": {
        "colab": {
          "base_uri": "https://localhost:8080/"
        },
        "id": "6gyOSVkycTdw",
        "outputId": "1aa52812-035d-45e9-d7ee-eb65c454856b"
      },
      "execution_count": 11,
      "outputs": [
        {
          "output_type": "execute_result",
          "data": {
            "text/plain": [
              "['Python',\n",
              " 'é',\n",
              " 'a',\n",
              " 'linguagem',\n",
              " 'ideal',\n",
              " 'para',\n",
              " 'o',\n",
              " 'primeiro',\n",
              " 'contato',\n",
              " 'com',\n",
              " 'programação,',\n",
              " 'além',\n",
              " 'da',\n",
              " 'sua',\n",
              " 'sintaxe',\n",
              " 'simples',\n",
              " 'e',\n",
              " 'muito',\n",
              " 'poderosa,',\n",
              " 'Python',\n",
              " 'tem',\n",
              " 'diversas',\n",
              " 'aplicações',\n",
              " 'como:',\n",
              " 'desenvolvimento',\n",
              " 'web,',\n",
              " 'análise',\n",
              " 'de',\n",
              " 'dados,',\n",
              " 'inteligência',\n",
              " 'artificial',\n",
              " 'e',\n",
              " 'automatização',\n",
              " 'de',\n",
              " 'tarefas,',\n",
              " 'neste',\n",
              " 'curso',\n",
              " 'você',\n",
              " 'aprenderá',\n",
              " 'a',\n",
              " 'lógica',\n",
              " 'de',\n",
              " 'programação',\n",
              " 'para',\n",
              " 'conquistar',\n",
              " 'fluência',\n",
              " 'na',\n",
              " 'linguagem,',\n",
              " 'a',\n",
              " 'comunidade',\n",
              " 'Python',\n",
              " 'é',\n",
              " 'a',\n",
              " 'que',\n",
              " 'mais',\n",
              " 'cresce,',\n",
              " 'assim',\n",
              " 'como',\n",
              " 'sua',\n",
              " 'demanda',\n",
              " 'de',\n",
              " 'profissionais',\n",
              " 'no',\n",
              " 'mercado.']"
            ]
          },
          "metadata": {},
          "execution_count": 11
        }
      ]
    },
    {
      "cell_type": "code",
      "source": [
        "for i in range(1, 11):\n",
        " print(i)\n",
        "\n",
        " num = i\n"
      ],
      "metadata": {
        "colab": {
          "base_uri": "https://localhost:8080/"
        },
        "id": "TyrQHFXqcgNr",
        "outputId": "0d4d4b2d-92c7-4531-fd88-ceb96fe97606"
      },
      "execution_count": 21,
      "outputs": [
        {
          "output_type": "stream",
          "name": "stdout",
          "text": [
            "1\n",
            "2\n",
            "3\n",
            "4\n",
            "5\n",
            "6\n",
            "7\n",
            "8\n",
            "9\n",
            "10\n"
          ]
        }
      ]
    },
    {
      "cell_type": "code",
      "source": [
        "objetos = [\"borracha\", \"caneta\", \"lapis\", \"lapiseira\", \"apontador\"]"
      ],
      "metadata": {
        "id": "HbdMxG6-c6MU"
      },
      "execution_count": 23,
      "outputs": []
    },
    {
      "cell_type": "code",
      "source": [
        "print(objetos)"
      ],
      "metadata": {
        "colab": {
          "base_uri": "https://localhost:8080/"
        },
        "id": "zcfkGZkud0CY",
        "outputId": "1691fa06-a4ab-444f-dd0b-332aa5a0c162"
      },
      "execution_count": 24,
      "outputs": [
        {
          "output_type": "stream",
          "name": "stdout",
          "text": [
            "['borracha', 'caneta', 'lapis', 'lapiseira', 'apontador']\n"
          ]
        }
      ]
    },
    {
      "cell_type": "code",
      "source": [
        "banana1 = str(input(\"Digite a primeira fruta: \"))\n",
        "banana2 = str(input(\"Digite a segunda fruta: \"))\n",
        "\n",
        "print(banana1, banana2)"
      ],
      "metadata": {
        "colab": {
          "base_uri": "https://localhost:8080/"
        },
        "id": "zNCPrRLZeje7",
        "outputId": "45a857b9-c19e-4ab5-d24d-d97d9ff7e92d"
      },
      "execution_count": 26,
      "outputs": [
        {
          "output_type": "stream",
          "name": "stdout",
          "text": [
            "Digite a primeira fruta: banana\n",
            "Digite a segunda fruta: maça\n",
            "banana maça\n"
          ]
        }
      ]
    },
    {
      "cell_type": "code",
      "source": [
        "num = (\"1\", \"2\", \"2\", \"3\", \"4\", \"4\", \"4\", \"5\")"
      ],
      "metadata": {
        "id": "VuaMlfXBfGkj"
      },
      "execution_count": 28,
      "outputs": []
    },
    {
      "cell_type": "code",
      "source": [
        "num.count(\"4\")"
      ],
      "metadata": {
        "colab": {
          "base_uri": "https://localhost:8080/"
        },
        "id": "RxH6tKq3fxT7",
        "outputId": "4b91d790-6a7d-4387-975a-35b243d1f6d6"
      },
      "execution_count": 30,
      "outputs": [
        {
          "output_type": "execute_result",
          "data": {
            "text/plain": [
              "3"
            ]
          },
          "metadata": {},
          "execution_count": 30
        }
      ]
    },
    {
      "cell_type": "code",
      "source": [
        "frase = 'Cientista de Dados é o profissional mais legal do século XXI'"
      ],
      "metadata": {
        "id": "RntiLQMugU3V"
      },
      "execution_count": 34,
      "outputs": []
    },
    {
      "cell_type": "code",
      "source": [
        "print(frase[1:18])"
      ],
      "metadata": {
        "colab": {
          "base_uri": "https://localhost:8080/"
        },
        "id": "gY2-OH2ngW_w",
        "outputId": "6e03bb41-c71a-41a8-8130-69bf85f54a27"
      },
      "execution_count": 35,
      "outputs": [
        {
          "output_type": "stream",
          "name": "stdout",
          "text": [
            "Cientista de Dados\n"
          ]
        }
      ]
    },
    {
      "cell_type": "code",
      "source": [
        "x = \"Hello World\"\n",
        "print(len(x))"
      ],
      "metadata": {
        "colab": {
          "base_uri": "https://localhost:8080/"
        },
        "id": "lsYtFsw7hBos",
        "outputId": "c9a6378c-42b5-45b5-ae5b-b5f27a993410"
      },
      "execution_count": 36,
      "outputs": [
        {
          "output_type": "stream",
          "name": "stdout",
          "text": [
            "11\n"
          ]
        }
      ]
    },
    {
      "cell_type": "code",
      "source": [
        "txt = \"Hello World\"\n",
        "x = txt[2:5]\n",
        "print(x)"
      ],
      "metadata": {
        "colab": {
          "base_uri": "https://localhost:8080/"
        },
        "id": "q3eGB9d4hc_3",
        "outputId": "691a6945-c5e0-4770-f938-9a5edff8111f"
      },
      "execution_count": 37,
      "outputs": [
        {
          "output_type": "stream",
          "name": "stdout",
          "text": [
            "llo\n"
          ]
        }
      ]
    },
    {
      "cell_type": "code",
      "source": [
        "txt = \"Hello World\"\n",
        "txt.upper()"
      ],
      "metadata": {
        "colab": {
          "base_uri": "https://localhost:8080/",
          "height": 35
        },
        "id": "hjTI_niahvo7",
        "outputId": "bbb49745-4026-458a-88f3-c57746f537e0"
      },
      "execution_count": 38,
      "outputs": [
        {
          "output_type": "execute_result",
          "data": {
            "text/plain": [
              "'HELLO WORLD'"
            ],
            "application/vnd.google.colaboratory.intrinsic+json": {
              "type": "string"
            }
          },
          "metadata": {},
          "execution_count": 38
        }
      ]
    },
    {
      "cell_type": "code",
      "source": [
        "txt = \"Hello World\"\n",
        "x = txt[:1]\n",
        "print(x)"
      ],
      "metadata": {
        "colab": {
          "base_uri": "https://localhost:8080/"
        },
        "id": "MXXfg3vRiUBg",
        "outputId": "cad4d0fb-2fd4-4682-b5dc-b24242cb4e95"
      },
      "execution_count": 44,
      "outputs": [
        {
          "output_type": "stream",
          "name": "stdout",
          "text": [
            "H\n"
          ]
        }
      ]
    },
    {
      "cell_type": "code",
      "source": [
        "txt = \"Eu gosto de vijar, tomar vinho, de estudar estudar programação, de estudar Pyhon\""
      ],
      "metadata": {
        "id": "VPBty1SmihNM"
      },
      "execution_count": 45,
      "outputs": []
    },
    {
      "cell_type": "code",
      "source": [
        "txt.count(\"de\")"
      ],
      "metadata": {
        "colab": {
          "base_uri": "https://localhost:8080/"
        },
        "id": "yebfU2goimwL",
        "outputId": "d25084a8-78dc-4099-f254-39d2e4a372d9"
      },
      "execution_count": 46,
      "outputs": [
        {
          "output_type": "execute_result",
          "data": {
            "text/plain": [
              "3"
            ]
          },
          "metadata": {},
          "execution_count": 46
        }
      ]
    },
    {
      "cell_type": "code",
      "source": [
        "txt.split()"
      ],
      "metadata": {
        "colab": {
          "base_uri": "https://localhost:8080/"
        },
        "id": "k9IZz7a5iyPi",
        "outputId": "47a5f358-b09f-4472-bf72-433d8de24862"
      },
      "execution_count": 47,
      "outputs": [
        {
          "output_type": "execute_result",
          "data": {
            "text/plain": [
              "['Eu',\n",
              " 'gosto',\n",
              " 'de',\n",
              " 'vijar,',\n",
              " 'tomar',\n",
              " 'vinho,',\n",
              " 'de',\n",
              " 'estudar',\n",
              " 'estudar',\n",
              " 'programação,',\n",
              " 'de',\n",
              " 'estudar',\n",
              " 'Pyhon']"
            ]
          },
          "metadata": {},
          "execution_count": 47
        }
      ]
    },
    {
      "cell_type": "code",
      "source": [],
      "metadata": {
        "id": "WF_gF0O5jkry"
      },
      "execution_count": 51,
      "outputs": []
    },
    {
      "cell_type": "code",
      "source": [
        "meudicionario2 = {\n",
        "\"nome\" : \"Arthur\",\n",
        "\"idade\": 33,\n",
        "\"nota\": [100, 1000, 100000]\n",
        "\n",
        "\n",
        "}"
      ],
      "metadata": {
        "id": "Q9ElbepmkDLU"
      },
      "execution_count": 55,
      "outputs": []
    },
    {
      "cell_type": "code",
      "source": [
        "print(meudicionario2)"
      ],
      "metadata": {
        "colab": {
          "base_uri": "https://localhost:8080/"
        },
        "id": "7WLKlEvLk0GL",
        "outputId": "4dd1817d-66c4-4f2a-e125-fbbbbf4e1267"
      },
      "execution_count": 56,
      "outputs": [
        {
          "output_type": "stream",
          "name": "stdout",
          "text": [
            "{'nome': 'Arthur', 'idade': 33, 'nota': [100, 1000, 100000]}\n"
          ]
        }
      ]
    },
    {
      "cell_type": "code",
      "source": [
        "meudicionario2[\"numero\"] = 40028922"
      ],
      "metadata": {
        "id": "jHJYkEHHlLv9"
      },
      "execution_count": 57,
      "outputs": []
    },
    {
      "cell_type": "code",
      "source": [
        "print(meudicionario2)"
      ],
      "metadata": {
        "colab": {
          "base_uri": "https://localhost:8080/"
        },
        "id": "n0dMasW-ldkm",
        "outputId": "248925fe-9edd-4112-8446-6771831f1e43"
      },
      "execution_count": 58,
      "outputs": [
        {
          "output_type": "stream",
          "name": "stdout",
          "text": [
            "{'nome': 'Arthur', 'idade': 33, 'nota': [100, 1000, 100000], 'numero': 40028922}\n"
          ]
        }
      ]
    },
    {
      "cell_type": "code",
      "source": [
        "lista = [\n",
        "    \"banana\",\n",
        "    (\"abu1\", \"abu2\"),\n",
        "    {\"dinheiro\" : 10000000000000000,\"casa\" : \"Mansão\"},\n",
        "    1.10\n",
        "]"
      ],
      "metadata": {
        "id": "5gAApMUsojtC"
      },
      "execution_count": 72,
      "outputs": []
    }
  ]
}