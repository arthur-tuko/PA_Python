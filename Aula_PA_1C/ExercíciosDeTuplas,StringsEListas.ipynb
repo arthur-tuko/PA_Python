{
  "nbformat": 4,
  "nbformat_minor": 0,
  "metadata": {
    "colab": {
      "provenance": [],
      "authorship_tag": "ABX9TyNzhn6mRaC4eQVtllVN98sn",
      "include_colab_link": true
    },
    "kernelspec": {
      "name": "python3",
      "display_name": "Python 3"
    },
    "language_info": {
      "name": "python"
    }
  },
  "cells": [
    {
      "cell_type": "markdown",
      "metadata": {
        "id": "view-in-github",
        "colab_type": "text"
      },
      "source": [
        "<a href=\"https://colab.research.google.com/github/arthur-tuko/PA_Python/blob/main/Aula_PA_1C/Exerc%C3%ADciosDeTuplas%2CStringsEListas.ipynb\" target=\"_parent\"><img src=\"https://colab.research.google.com/assets/colab-badge.svg\" alt=\"Open In Colab\"/></a>"
      ]
    },
    {
      "cell_type": "code",
      "execution_count": 2,
      "metadata": {
        "id": "nUts9cMwaWZI"
      },
      "outputs": [],
      "source": [
        "# Exercício 1 inserir os seus dados acima em variáveis\n",
        "#Exemplo\n",
        "nome = \"Arthur Franco\"\n",
        "Turma = \"Manhã\""
      ]
    },
    {
      "cell_type": "code",
      "source": [
        "# Exercício 2 -Apos inserir dados acima usando o slicing (exemplo no notebook de manipulação de Strings), imprima na tela apenas seu sobrenome\n",
        "nome[7:]"
      ],
      "metadata": {
        "colab": {
          "base_uri": "https://localhost:8080/",
          "height": 35
        },
        "id": "PJE0LaJxbZqb",
        "outputId": "4c9fb23d-764a-41a1-87e1-ee06a209586c"
      },
      "execution_count": 6,
      "outputs": [
        {
          "output_type": "execute_result",
          "data": {
            "text/plain": [
              "'Franco'"
            ],
            "application/vnd.google.colaboratory.intrinsic+json": {
              "type": "string"
            }
          },
          "metadata": {},
          "execution_count": 6
        }
      ]
    },
    {
      "cell_type": "code",
      "source": [
        "# Exercício 3 -  imprima seu nome de trás pra frente\n",
        "nome[::-1]"
      ],
      "metadata": {
        "colab": {
          "base_uri": "https://localhost:8080/",
          "height": 35
        },
        "id": "XRRJd03CbxJF",
        "outputId": "a1065692-eb9d-4200-8117-769af64066b9"
      },
      "execution_count": 8,
      "outputs": [
        {
          "output_type": "execute_result",
          "data": {
            "text/plain": [
              "'ocnarF ruhtrA'"
            ],
            "application/vnd.google.colaboratory.intrinsic+json": {
              "type": "string"
            }
          },
          "metadata": {},
          "execution_count": 8
        }
      ]
    },
    {
      "cell_type": "code",
      "source": [
        "# Exercício 4 - pegue a frase abaixo, aplique o split para fazer uma quebra toda vez que encontrar uma \",\"\n",
        "frase = \"Python é a linguagem ideal para o primeiro contato com programação, além da sua sintaxe simples e muito poderosa, Python tem diversas aplicações como: desenvolvimento web, análise de dados, inteligência artificial e automatização de tarefas, neste curso você aprenderá a lógica de programação para conquistar fluência na linguagem, a comunidade Python é a que mais cresce, assim como sua demanda de profissionais no mercado.\"\n",
        "frase.split()"
      ],
      "metadata": {
        "colab": {
          "base_uri": "https://localhost:8080/"
        },
        "id": "QO3Q7i5lcAEM",
        "outputId": "88444b60-edab-4d53-e660-f72a0e0704ee"
      },
      "execution_count": 74,
      "outputs": [
        {
          "output_type": "execute_result",
          "data": {
            "text/plain": [
              "['Python',\n",
              " 'é',\n",
              " 'a',\n",
              " 'linguagem',\n",
              " 'ideal',\n",
              " 'para',\n",
              " 'o',\n",
              " 'primeiro',\n",
              " 'contato',\n",
              " 'com',\n",
              " 'programação,',\n",
              " 'além',\n",
              " 'da',\n",
              " 'sua',\n",
              " 'sintaxe',\n",
              " 'simples',\n",
              " 'e',\n",
              " 'muito',\n",
              " 'poderosa,',\n",
              " 'Python',\n",
              " 'tem',\n",
              " 'diversas',\n",
              " 'aplicações',\n",
              " 'como:',\n",
              " 'desenvolvimento',\n",
              " 'web,',\n",
              " 'análise',\n",
              " 'de',\n",
              " 'dados,',\n",
              " 'inteligência',\n",
              " 'artificial',\n",
              " 'e',\n",
              " 'automatização',\n",
              " 'de',\n",
              " 'tarefas,',\n",
              " 'neste',\n",
              " 'curso',\n",
              " 'você',\n",
              " 'aprenderá',\n",
              " 'a',\n",
              " 'lógica',\n",
              " 'de',\n",
              " 'programação',\n",
              " 'para',\n",
              " 'conquistar',\n",
              " 'fluência',\n",
              " 'na',\n",
              " 'linguagem,',\n",
              " 'a',\n",
              " 'comunidade',\n",
              " 'Python',\n",
              " 'é',\n",
              " 'a',\n",
              " 'que',\n",
              " 'mais',\n",
              " 'cresce,',\n",
              " 'assim',\n",
              " 'como',\n",
              " 'sua',\n",
              " 'demanda',\n",
              " 'de',\n",
              " 'profissionais',\n",
              " 'no',\n",
              " 'mercado.']"
            ]
          },
          "metadata": {},
          "execution_count": 74
        }
      ]
    },
    {
      "cell_type": "code",
      "source": [
        "# Exercício 5 -Imprima na tela os números de 1 a 10. Use uma lista para armazenar os números.\n",
        "for i in range(1, 11):\n",
        " print(i)\n",
        "\n",
        " num = i\n"
      ],
      "metadata": {
        "colab": {
          "base_uri": "https://localhost:8080/"
        },
        "id": "TyrQHFXqcgNr",
        "outputId": "0d4d4b2d-92c7-4531-fd88-ceb96fe97606"
      },
      "execution_count": 21,
      "outputs": [
        {
          "output_type": "stream",
          "name": "stdout",
          "text": [
            "1\n",
            "2\n",
            "3\n",
            "4\n",
            "5\n",
            "6\n",
            "7\n",
            "8\n",
            "9\n",
            "10\n"
          ]
        }
      ]
    },
    {
      "cell_type": "code",
      "source": [
        "# Exercício 6 - Crie uma lista de 5 objetos e imprima na tela\n",
        "objetos = [\"borracha\", \"caneta\", \"lapis\", \"lapiseira\", \"apontador\"]\n",
        "print(objetos)"
      ],
      "metadata": {
        "colab": {
          "base_uri": "https://localhost:8080/"
        },
        "id": "HbdMxG6-c6MU",
        "outputId": "74aaaa73-2619-4390-e37d-d0e687546cd9"
      },
      "execution_count": 76,
      "outputs": [
        {
          "output_type": "stream",
          "name": "stdout",
          "text": [
            "['borracha', 'caneta', 'lapis', 'lapiseira', 'apontador']\n"
          ]
        }
      ]
    },
    {
      "cell_type": "code",
      "source": [
        "# Exercício 7 - - Crie duas strings e concatene as duas em uma terceira string\n",
        "banana1 = str(input(\"Digite a primeira fruta: \"))\n",
        "banana2 = str(input(\"Digite a segunda fruta: \"))\n",
        "\n",
        "print(banana1, banana2)"
      ],
      "metadata": {
        "colab": {
          "base_uri": "https://localhost:8080/"
        },
        "id": "zNCPrRLZeje7",
        "outputId": "45a857b9-c19e-4ab5-d24d-d97d9ff7e92d"
      },
      "execution_count": 26,
      "outputs": [
        {
          "output_type": "stream",
          "name": "stdout",
          "text": [
            "Digite a primeira fruta: banana\n",
            "Digite a segunda fruta: maça\n",
            "banana maça\n"
          ]
        }
      ]
    },
    {
      "cell_type": "code",
      "source": [
        "# Exercício 8 - Crie uma tupla com os seguintes elementos: 1, 2, 2, 3, 4, 4, 4, 5 e depois utilize a função count do\n",
        "# objeto tupla para verificar quantas vezes o número 4 aparece na tupla\n",
        "num = (\"1\", \"2\", \"2\", \"3\", \"4\", \"4\", \"4\", \"5\")\n",
        "num.count(\"4\")"
      ],
      "metadata": {
        "colab": {
          "base_uri": "https://localhost:8080/"
        },
        "id": "VuaMlfXBfGkj",
        "outputId": "bedf3907-0f81-444a-bb88-d4d4e4bd7a84"
      },
      "execution_count": 78,
      "outputs": [
        {
          "output_type": "execute_result",
          "data": {
            "text/plain": [
              "3"
            ]
          },
          "metadata": {},
          "execution_count": 78
        }
      ]
    },
    {
      "cell_type": "code",
      "source": [
        "# Exercício 9 - Crie um dicionário vazio e imprima na tela\n",
        "meudicionario = {\n",
        "\n",
        "\n",
        "\n",
        "}\n",
        "print(meudicionario)"
      ],
      "metadata": {
        "colab": {
          "base_uri": "https://localhost:8080/"
        },
        "id": "T8TTC-H2t7k_",
        "outputId": "c7917d97-3f84-4cf5-db04-4b6544b5c174"
      },
      "execution_count": 80,
      "outputs": [
        {
          "output_type": "stream",
          "name": "stdout",
          "text": [
            "{}\n"
          ]
        }
      ]
    },
    {
      "cell_type": "code",
      "source": [
        "# Exercício 10 - Crie um dicionário com 3 chaves e 3 valores e imprima na tela\n",
        "meudicionario2 = {\n",
        "\"nome\" : \"Arthur\",\n",
        "\"idade\": 33,\n",
        "\"nota\": [100, 1000, 100000]\n",
        "\n",
        "\n",
        "}\n",
        "print(meudicionario2)"
      ],
      "metadata": {
        "colab": {
          "base_uri": "https://localhost:8080/"
        },
        "id": "Q9ElbepmkDLU",
        "outputId": "4f7c9f17-93f9-4e2b-a2ea-cc37e4281486"
      },
      "execution_count": 81,
      "outputs": [
        {
          "output_type": "stream",
          "name": "stdout",
          "text": [
            "{'nome': 'Arthur', 'idade': 33, 'nota': [100, 1000, 100000]}\n"
          ]
        }
      ]
    },
    {
      "cell_type": "code",
      "source": [
        "# Exercício 11 - Adicione mais um elemento ao dicionário criado no exercício anterior e imprima na tela\n",
        "meudicionario2[\"numero\"] = 40028922\n",
        "print(meudicionario2)"
      ],
      "metadata": {
        "colab": {
          "base_uri": "https://localhost:8080/"
        },
        "id": "jHJYkEHHlLv9",
        "outputId": "c9261e76-2a94-4400-ca28-c6b17ccb9dea"
      },
      "execution_count": 82,
      "outputs": [
        {
          "output_type": "stream",
          "name": "stdout",
          "text": [
            "{'nome': 'Arthur', 'idade': 33, 'nota': [100, 1000, 100000], 'numero': 40028922}\n"
          ]
        }
      ]
    },
    {
      "cell_type": "code",
      "source": [
        "# Exercício 12 - Crie um dicionário com 3 chaves e 3 valores. Um dos valores deve ser uma lista de 2 elementos numéricos.\n",
        "# Imprima o dicionário na tela.\n",
        "meudicionario3 = {\n",
        "\"nome\" : \"Arthur\",\n",
        "\"idade\": 33,\n",
        "\"nota\": [100, 1000, 100000]"
      ],
      "metadata": {
        "id": "XTWSSExSusif"
      },
      "execution_count": null,
      "outputs": []
    },
    {
      "cell_type": "code",
      "source": [
        "# Exercício 13 - Crie uma lista de 4 elementos. O primeiro elemento deve ser uma string,\n",
        "# o segundo uma tupla de 2 elementos, o terceiro um dcionário com 2 chaves e 2 valores e\n",
        "# o quarto elemento um valor do tipo float.\n",
        "# Imprima a lista na tela.\n",
        "lista = [\n",
        "    \"banana\",\n",
        "    (\"abu1\", \"abu2\"),\n",
        "    {\"dinheiro\" : 10000000000000000,\"casa\" : \"Mansão\"},\n",
        "\n",
        "]\n",
        "print(lista)"
      ],
      "metadata": {
        "colab": {
          "base_uri": "https://localhost:8080/"
        },
        "id": "5gAApMUsojtC",
        "outputId": "7c3b230c-1d11-4c75-bad8-c008bcc39987"
      },
      "execution_count": 83,
      "outputs": [
        {
          "output_type": "stream",
          "name": "stdout",
          "text": [
            "['banana', ('abu1', 'abu2'), {'dinheiro': 10000000000000000, 'casa': 'Mansão'}]\n"
          ]
        }
      ]
    },
    {
      "cell_type": "code",
      "source": [
        "# Exercício 14 - Considere a string abaixo. Imprima na tela apenas os caracteres da posição 1 a 18.\n",
        "frase = 'Cientista de Dados é o profissional mais legal do século XXI'\n",
        "print(frase[1:18])"
      ],
      "metadata": {
        "id": "RntiLQMugU3V"
      },
      "execution_count": 34,
      "outputs": []
    },
    {
      "cell_type": "markdown",
      "source": [
        "*Exercícios de Manipulação de Strings*"
      ],
      "metadata": {
        "id": "1D927Y3usuif"
      }
    },
    {
      "cell_type": "code",
      "source": [
        "# 1 - Use o método len para imprimir o comprimento da string.\n",
        "x = \"Hello World\"\n",
        "print(len(x))"
      ],
      "metadata": {
        "colab": {
          "base_uri": "https://localhost:8080/"
        },
        "id": "lsYtFsw7hBos",
        "outputId": "c9a6378c-42b5-45b5-ae5b-b5f27a993410"
      },
      "execution_count": 36,
      "outputs": [
        {
          "output_type": "stream",
          "name": "stdout",
          "text": [
            "11\n"
          ]
        }
      ]
    },
    {
      "cell_type": "code",
      "source": [
        "# 2 - Obtenha o primeiro caractere da string txt.\n",
        "txt = \"Hello World\"\n",
        "x = txt[:1]\n",
        "print(x)"
      ],
      "metadata": {
        "colab": {
          "base_uri": "https://localhost:8080/"
        },
        "id": "MXXfg3vRiUBg",
        "outputId": "cad4d0fb-2fd4-4682-b5dc-b24242cb4e95"
      },
      "execution_count": 44,
      "outputs": [
        {
          "output_type": "stream",
          "name": "stdout",
          "text": [
            "H\n"
          ]
        }
      ]
    },
    {
      "cell_type": "code",
      "source": [
        "# 3 - Obtenha os caracteres do índice 2 ao índice 4 ( llo).\n",
        "txt = \"Hello World\"\n",
        "x = txt[2:5]\n",
        "print(x)"
      ],
      "metadata": {
        "colab": {
          "base_uri": "https://localhost:8080/"
        },
        "id": "q3eGB9d4hc_3",
        "outputId": "691a6945-c5e0-4770-f938-9a5edff8111f"
      },
      "execution_count": 37,
      "outputs": [
        {
          "output_type": "stream",
          "name": "stdout",
          "text": [
            "llo\n"
          ]
        }
      ]
    },
    {
      "cell_type": "code",
      "source": [
        "# 4 - Converta o valor de txt para maiúsculas.\n",
        "txt = \"Hello World\"\n",
        "txt.upper()"
      ],
      "metadata": {
        "colab": {
          "base_uri": "https://localhost:8080/",
          "height": 35
        },
        "id": "hjTI_niahvo7",
        "outputId": "bbb49745-4026-458a-88f3-c57746f537e0"
      },
      "execution_count": 38,
      "outputs": [
        {
          "output_type": "execute_result",
          "data": {
            "text/plain": [
              "'HELLO WORLD'"
            ],
            "application/vnd.google.colaboratory.intrinsic+json": {
              "type": "string"
            }
          },
          "metadata": {},
          "execution_count": 38
        }
      ]
    },
    {
      "cell_type": "code",
      "source": [
        "# 5 - Conte quantas vezes aparece a palavra \"de\" na string abaixo\n",
        "txt = \"Eu gosto de vijar, tomar vinho, de estudar estudar programação, de estudar Pyhon\"\n",
        "txt.count(\"de\")"
      ],
      "metadata": {
        "id": "VPBty1SmihNM"
      },
      "execution_count": 45,
      "outputs": []
    },
    {
      "cell_type": "code",
      "source": [
        "# 6 - Separe a frase abaixo toda vez que encontrar um vírgula\n",
        "txt.split()"
      ],
      "metadata": {
        "colab": {
          "base_uri": "https://localhost:8080/"
        },
        "id": "k9IZz7a5iyPi",
        "outputId": "47a5f358-b09f-4472-bf72-433d8de24862"
      },
      "execution_count": 47,
      "outputs": [
        {
          "output_type": "execute_result",
          "data": {
            "text/plain": [
              "['Eu',\n",
              " 'gosto',\n",
              " 'de',\n",
              " 'vijar,',\n",
              " 'tomar',\n",
              " 'vinho,',\n",
              " 'de',\n",
              " 'estudar',\n",
              " 'estudar',\n",
              " 'programação,',\n",
              " 'de',\n",
              " 'estudar',\n",
              " 'Pyhon']"
            ]
          },
          "metadata": {},
          "execution_count": 47
        }
      ]
    }
  ]
}