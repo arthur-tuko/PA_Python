{
  "nbformat": 4,
  "nbformat_minor": 0,
  "metadata": {
    "colab": {
      "provenance": [],
      "authorship_tag": "ABX9TyNq9zgfd2T5v83Cb83ImPoH",
      "include_colab_link": true
    },
    "kernelspec": {
      "name": "python3",
      "display_name": "Python 3"
    },
    "language_info": {
      "name": "python"
    }
  },
  "cells": [
    {
      "cell_type": "markdown",
      "metadata": {
        "id": "view-in-github",
        "colab_type": "text"
      },
      "source": [
        "<a href=\"https://colab.research.google.com/github/arthur-tuko/PA_Python/blob/main/Aula_PA_1C/variaveis_e_operadores_l%C3%B3gicos.ipynb\" target=\"_parent\"><img src=\"https://colab.research.google.com/assets/colab-badge.svg\" alt=\"Open In Colab\"/></a>"
      ]
    },
    {
      "cell_type": "code",
      "source": [
        "#Calcular a média de 2 provas\n",
        "\n",
        "#Entrada\n",
        "p1 = float(input('digite a nota da prova 1: '))\n",
        "p2 = float(input('digite a nota da prova 2: '))\n",
        "\n",
        "#Processamento\n",
        "\n",
        "media = (p1 + p2) / 2\n",
        "\n",
        "#Saída\n",
        "\n",
        "print('a média é', media)"
      ],
      "metadata": {
        "colab": {
          "base_uri": "https://localhost:8080/"
        },
        "id": "8vxzOR9RXFgB",
        "outputId": "dcfe6b60-dd7b-4220-c956-c3d2922aaddd"
      },
      "execution_count": 31,
      "outputs": [
        {
          "output_type": "stream",
          "name": "stdout",
          "text": [
            "digite a nota da prova 1: 10\n",
            "digite a nota da prova 2: 10\n",
            "a média é 10.0\n"
          ]
        }
      ]
    },
    {
      "cell_type": "code",
      "source": [
        " #converta graus para fahrenheint\n",
        "\n",
        "# Converter graus Celsius para Fahrenheit\n",
        "\n",
        "# Entrada\n",
        "celsius = float(input('Digite a temperatura em graus Celsius: '))\n",
        "\n",
        "# Processamento\n",
        "fahrenheit = (celsius * 9/5) + 32\n",
        "\n",
        "# Saída\n",
        "print(f'{celsius} graus Celsius equivalem a {fahrenheit} graus Fahrenheit.')\n"
      ],
      "metadata": {
        "colab": {
          "base_uri": "https://localhost:8080/"
        },
        "id": "3ZmVqNtXbIT_",
        "outputId": "c6cdb3a4-c740-4671-afe5-53defea91491"
      },
      "execution_count": 43,
      "outputs": [
        {
          "output_type": "stream",
          "name": "stdout",
          "text": [
            "Digite a temperatura em graus Celsius: 30\n",
            "30.0 graus Celsius equivalem a 86.0 graus Fahrenheit.\n"
          ]
        }
      ]
    },
    {
      "cell_type": "code",
      "source": [
        "#converta fahrenheint para celcius\n",
        "\n",
        "# Converter graus Celsius para Fahrenheit\n",
        "\n",
        "# Entrada\n",
        "fahrenheit = float(input('Digite a temperatura em fahrenheit: '))\n",
        "\n",
        "# Processamento\n",
        "celcius = (fahrenheit - 32) * 5/9\n",
        "\n",
        "# Saída\n",
        "print(f'{fahrenheit} graus fahrenheint equivalem a {celcius} graus celcius.')\n"
      ],
      "metadata": {
        "colab": {
          "base_uri": "https://localhost:8080/"
        },
        "id": "ekNt1fdud8fj",
        "outputId": "935502e4-4ec7-496a-8925-ff1033f50550"
      },
      "execution_count": 51,
      "outputs": [
        {
          "output_type": "stream",
          "name": "stdout",
          "text": [
            "Digite a temperatura em fahrenheit: 90\n",
            "90.0 graus fahrenheint equivalem a 32.22222222222222 graus celcius.\n"
          ]
        }
      ]
    },
    {
      "cell_type": "code",
      "source": [
        "# Calcule o valor da peças\n",
        "\n",
        "##Entrada\n",
        "valor = float(input('digite o valor da peça: '))\n",
        "quantidade = float(input('digite a quantidade da peça: '))\n",
        "\n",
        "##Processamento\n",
        "total = valor * quantidade\n",
        "\n",
        "##Saída\n",
        "print('o valor total é', total)"
      ],
      "metadata": {
        "colab": {
          "base_uri": "https://localhost:8080/"
        },
        "id": "YkHcpu0dj_f0",
        "outputId": "f763f0aa-f195-4aad-a3fb-372a1564343f"
      },
      "execution_count": 52,
      "outputs": [
        {
          "output_type": "stream",
          "name": "stdout",
          "text": [
            "digite o valor da peça: 4\n",
            "digite a quantidade da peça: 2\n",
            "o valor total é 8.0\n"
          ]
        }
      ]
    }
  ]
}