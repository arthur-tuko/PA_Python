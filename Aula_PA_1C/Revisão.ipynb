{
  "nbformat": 4,
  "nbformat_minor": 0,
  "metadata": {
    "colab": {
      "provenance": [],
      "authorship_tag": "ABX9TyPQk/Zwv9dNFdBPfBipqQHs",
      "include_colab_link": true
    },
    "kernelspec": {
      "name": "python3",
      "display_name": "Python 3"
    },
    "language_info": {
      "name": "python"
    }
  },
  "cells": [
    {
      "cell_type": "markdown",
      "metadata": {
        "id": "view-in-github",
        "colab_type": "text"
      },
      "source": [
        "<a href=\"https://colab.research.google.com/github/arthur-tuko/PA_Python/blob/main/Aula_PA_1C/Revis%C3%A3o.ipynb\" target=\"_parent\"><img src=\"https://colab.research.google.com/assets/colab-badge.svg\" alt=\"Open In Colab\"/></a>"
      ]
    },
    {
      "cell_type": "code",
      "execution_count": null,
      "metadata": {
        "id": "ErRo7pVOL7AX"
      },
      "outputs": [],
      "source": [
        "##Número Positivo ou Negativo\n",
        "\n",
        "#Entrada\n",
        "numero = float(input('Digite um número:  '))\n",
        "\n",
        "#processamento\n",
        "if (numero > 0):\n",
        "  print('O número é positivo')\n",
        "elif (numero < 0):\n",
        "  print('O número é negativo')\n",
        "else:\n",
        "  print('O número é zero')"
      ]
    },
    {
      "cell_type": "code",
      "source": [
        "## Par ou Ímpar\n",
        "#entrada\n",
        "numero = int(input('Digite um numero:  '))\n",
        "\n",
        "#processamento\n",
        "if (numero % 2 == 0):\n",
        "  print('O numero é par')\n",
        "else:\n",
        "  print('O numero é impar')"
      ],
      "metadata": {
        "id": "zKI_yMStL-Ou"
      },
      "execution_count": null,
      "outputs": []
    },
    {
      "cell_type": "code",
      "source": [
        "##Verificar maior de idade\n",
        "#entrada\n",
        "idade = int(input('Digite a sua idade:  '))\n",
        "\n",
        "#processamento\n",
        "if (idade >= 18):\n",
        "  print('Você é maior de idade')\n",
        "else:\n",
        "  print('Você é menor de idade')"
      ],
      "metadata": {
        "id": "qlKTi1CeMBLp"
      },
      "execution_count": null,
      "outputs": []
    },
    {
      "cell_type": "code",
      "source": [
        "##Senha correta\n",
        "#entrada\n",
        "senha = input('Digite a senha:  ')\n",
        "\n",
        "#processamento\n",
        "if (senha == '1234'):\n",
        "  print('Senha correta')\n",
        "else:\n",
        "  print('Senha incorreta')"
      ],
      "metadata": {
        "colab": {
          "base_uri": "https://localhost:8080/"
        },
        "id": "43wrEEnlMDO9",
        "outputId": "bca28966-5516-49ac-f235-24403ea48830"
      },
      "execution_count": 2,
      "outputs": [
        {
          "output_type": "stream",
          "name": "stdout",
          "text": [
            "Digite a senha:  123\n",
            "Senha incorreta\n"
          ]
        }
      ]
    },
    {
      "cell_type": "code",
      "source": [
        "##Nota e aprovação\n",
        "#entrada\n",
        "nota = float(input('Digite a sua nota:'))\n",
        "\n",
        "#processamento\n",
        "if (nota >= 6):\n",
        "  print('Você foi aprovado')\n",
        "else:\n",
        "  print('Você foi reprovado')"
      ],
      "metadata": {
        "colab": {
          "base_uri": "https://localhost:8080/"
        },
        "id": "Hyjr3AjKMds1",
        "outputId": "25425a79-0c61-452b-c2fb-6a66db89e953"
      },
      "execution_count": 5,
      "outputs": [
        {
          "output_type": "stream",
          "name": "stdout",
          "text": [
            "Digite a sua nota:6\n",
            "Você foi aprovado\n"
          ]
        }
      ]
    },
    {
      "cell_type": "code",
      "source": [
        "##Múltiplo de 3 e/ou 5\n",
        "#entrada\n",
        "numero = int(input('Digite um numero:  '))\n",
        "\n",
        "#processamento\n",
        "if (numero % 3 == 0) and (numero % 5 == 0):\n",
        "  print('O numero é multiplo de ambos')\n",
        "elif (numero % 5 == 0):\n",
        "  print('O numero é multiplo de 5')\n",
        "elif (numero % 3 == 0):\n",
        "  print('O numero é multiplo de 3')\n",
        "else:\n",
        "  print(f'O numero não é multiplo de 3 ou 5')"
      ],
      "metadata": {
        "colab": {
          "base_uri": "https://localhost:8080/"
        },
        "id": "4VOz3G1VNSdK",
        "outputId": "a8ee0b63-ba60-49a1-bd8b-3b35f43dda4f"
      },
      "execution_count": 18,
      "outputs": [
        {
          "output_type": "stream",
          "name": "stdout",
          "text": [
            "Digite um numero:  30\n",
            "O numero é multiplo de ambos\n"
          ]
        }
      ]
    },
    {
      "cell_type": "code",
      "source": [
        "##Número dentro de intervalo\n",
        "#entrada\n",
        "numero = int(input('Digite um numero:  '))\n",
        "\n",
        "#processamento\n",
        "if (numero >= 10) and (numero <= 20):\n",
        "  print('O numero está dentro do intervalo')\n",
        "else:\n",
        "  print('O numero não está dentro do intervalo')"
      ],
      "metadata": {
        "colab": {
          "base_uri": "https://localhost:8080/"
        },
        "id": "y0RjfjRdPPHb",
        "outputId": "f2e8ee4c-1bc6-4766-b3e3-8abe9398bce8"
      },
      "execution_count": 12,
      "outputs": [
        {
          "output_type": "stream",
          "name": "stdout",
          "text": [
            "Digite um numero:  20\n",
            "O numero está dentro do intervalo\n"
          ]
        }
      ]
    },
    {
      "cell_type": "code",
      "source": [
        "##Classificação do Triângulo\n",
        "#entrada\n",
        "lado1 = float(input('Digite o lado 1:  '))\n",
        "lado2 = float(input('Digite o lado 2:  '))\n",
        "lado3 = float(input('Digite o lado 3:  '))\n",
        "#processamento\n",
        "if (lado1 == lado2) and (lado1 == lado3):\n",
        "  print('O triangulo é equilátero')\n",
        "elif (lado1 == lado2 or lado1 == lado3 or lado2 == lado3):\n",
        "    print('O triangulo é isósceles')\n",
        "else:\n",
        "  print('o triangulo é escaleno')"
      ],
      "metadata": {
        "colab": {
          "base_uri": "https://localhost:8080/"
        },
        "id": "FZbG8AX1P2gc",
        "outputId": "4119b283-9026-4b39-b65c-67bdcb44c249"
      },
      "execution_count": 30,
      "outputs": [
        {
          "output_type": "stream",
          "name": "stdout",
          "text": [
            "Digite o lado 1:  2\n",
            "Digite o lado 2:  3\n",
            "Digite o lado 3:  4\n",
            "o triangulo é escaleno\n"
          ]
        }
      ]
    }
  ]
}