{
  "nbformat": 4,
  "nbformat_minor": 0,
  "metadata": {
    "colab": {
      "provenance": [],
      "authorship_tag": "ABX9TyPQ6s6TR325gjBcjtZBVAMu",
      "include_colab_link": true
    },
    "kernelspec": {
      "name": "python3",
      "display_name": "Python 3"
    },
    "language_info": {
      "name": "python"
    }
  },
  "cells": [
    {
      "cell_type": "markdown",
      "metadata": {
        "id": "view-in-github",
        "colab_type": "text"
      },
      "source": [
        "<a href=\"https://colab.research.google.com/github/arthur-tuko/PA_Python/blob/main/Aula_PA_1C/atividade.ipynb\" target=\"_parent\"><img src=\"https://colab.research.google.com/assets/colab-badge.svg\" alt=\"Open In Colab\"/></a>"
      ]
    },
    {
      "cell_type": "markdown",
      "source": [
        "1 - numeros pares e impares em uma lista:\n",
        "* o usuario digita uma sequencia de numeros separados por espaço\n",
        "* o programa transforma em lista de inteiros\n",
        "* usando o \"for\", deve contar quantos são pares e quantos são impares"
      ],
      "metadata": {
        "id": "YRUJPr4_vEFr"
      }
    },
    {
      "cell_type": "code",
      "source": [
        "sequencia = input(\"Digite uma sequencia de numeros separados por espaço: \")\n",
        "lista = sequencia.split()\n",
        "pares = 0\n",
        "impares = 0\n",
        "for numero in lista:\n",
        "    if int(numero) % 2 == 0:\n",
        "        pares += 1\n",
        "    else:\n",
        "        impares += 1\n",
        "print(f\"A sequencia tem {pares} numeros pares e {impares} numeros impares.\")"
      ],
      "metadata": {
        "colab": {
          "base_uri": "https://localhost:8080/"
        },
        "id": "wdHIP6URxWmi",
        "outputId": "0f6314d0-9c28-4aff-ea27-ae198ef96a06"
      },
      "execution_count": 176,
      "outputs": [
        {
          "output_type": "stream",
          "name": "stdout",
          "text": [
            "Digite uma sequencia de numeros separados por espaço: 1 1 1 1 1 1\n",
            "A sequencia tem 0 numeros pares e 6 numeros impares.\n"
          ]
        }
      ]
    },
    {
      "cell_type": "markdown",
      "source": [
        "2 - Adivinhar um número secreto:\n",
        "\n",
        "*   o programador escolhe um número secreto\n",
        "*   o usuario tenta adivinhar\n",
        "*   enquanto não acertar, o programador da mais dicas (\"Maior\" ou \"menor\")\n",
        "*    quando acertar, o loop acaba\n",
        "Dica para número aleátorio:\n",
        "\n",
        "import random\n",
        "\n",
        "secreto = random.randint(1, 20)\n",
        "\n",
        "tentativa = none\n",
        "\n",
        "\n",
        "\n"
      ],
      "metadata": {
        "id": "2pbodwsvwKWK"
      }
    },
    {
      "cell_type": "code",
      "source": [
        "import random\n",
        "secreto = random.randint(1, 20)\n",
        "tentativa = None\n",
        "while tentativa != secreto:\n",
        "  tentativa = int(input(\"Digite um numero entre 1 e 20: \"))\n",
        "  if tentativa < secreto:\n",
        "    print(\"Maior\")\n",
        "  elif tentativa > secreto:\n",
        "    print(\"Menor\")\n",
        "  else:\n",
        "    (print(\"Acertou\"))"
      ],
      "metadata": {
        "colab": {
          "base_uri": "https://localhost:8080/"
        },
        "id": "McPAFFIexVjC",
        "outputId": "96af6746-f16a-444f-91cf-df407dd1fc43"
      },
      "execution_count": 179,
      "outputs": [
        {
          "output_type": "stream",
          "name": "stdout",
          "text": [
            "Digite um numero entre 1 e 20: 1\n",
            "Maior\n",
            "Digite um numero entre 1 e 20: 4\n",
            "Maior\n",
            "Digite um numero entre 1 e 20: 6\n",
            "Maior\n",
            "Digite um numero entre 1 e 20: 10\n",
            "Maior\n",
            "Digite um numero entre 1 e 20: 19\n",
            "Menor\n",
            "Digite um numero entre 1 e 20: 17\n",
            "Menor\n",
            "Digite um numero entre 1 e 20: 16\n",
            "Menor\n",
            "Digite um numero entre 1 e 20: 15\n",
            "Menor\n",
            "Digite um numero entre 1 e 20: 14\n",
            "Menor\n",
            "Digite um numero entre 1 e 20: 13\n",
            "Menor\n",
            "Digite um numero entre 1 e 20: 12\n",
            "Acertou\n"
          ]
        }
      ]
    },
    {
      "cell_type": "markdown",
      "source": [
        "3 - Contar vogais em várias palavras:\n",
        "\n",
        "* O usuario digita uma lista de palavras (separadas por espaço)\n",
        "\n",
        "* Em cada palavra contar quantas vogais existem\n",
        "\n",
        "* Mostrar no final o total de vogais em cada palavra"
      ],
      "metadata": {
        "id": "wBOWvy0V2w8J"
      }
    },
    {
      "cell_type": "code",
      "source": [
        "Vogal = [\"a\", \"e\", \"i\", \"o\", \"u\"]\n",
        "palavra = input(\"Digite uma lista de palavras: \")\n",
        "lista = palavra.split()\n",
        "for palavra in lista:\n",
        "  contador = 0\n",
        "  for letra in palavra:\n",
        "    if letra.lower() in Vogal:\n",
        "      contador += 1\n",
        "  print(f\"A palavra '{palavra}' tem {contador} vogais.\")"
      ],
      "metadata": {
        "colab": {
          "base_uri": "https://localhost:8080/"
        },
        "id": "coJhKvHO4RyE",
        "outputId": "57591998-1131-4124-e198-d0a5d902eb77"
      },
      "execution_count": 194,
      "outputs": [
        {
          "output_type": "stream",
          "name": "stdout",
          "text": [
            "Digite uma lista de palavras: casa banana muro chuveiro eletrodomestico\n",
            "A palavra 'casa' tem 2 vogais.\n",
            "A palavra 'banana' tem 3 vogais.\n",
            "A palavra 'muro' tem 2 vogais.\n",
            "A palavra 'chuveiro' tem 4 vogais.\n",
            "A palavra 'eletrodomestico' tem 7 vogais.\n"
          ]
        }
      ]
    }
  ]
}