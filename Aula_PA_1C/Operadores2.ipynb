{
  "nbformat": 4,
  "nbformat_minor": 0,
  "metadata": {
    "colab": {
      "provenance": [],
      "authorship_tag": "ABX9TyNCiUgc31STkgiUMNUrBp3D",
      "include_colab_link": true
    },
    "kernelspec": {
      "name": "python3",
      "display_name": "Python 3"
    },
    "language_info": {
      "name": "python"
    }
  },
  "cells": [
    {
      "cell_type": "markdown",
      "metadata": {
        "id": "view-in-github",
        "colab_type": "text"
      },
      "source": [
        "<a href=\"https://colab.research.google.com/github/arthur-tuko/PA_Python/blob/main/Aula_PA_1C/Operadores2.ipynb\" target=\"_parent\"><img src=\"https://colab.research.google.com/assets/colab-badge.svg\" alt=\"Open In Colab\"/></a>"
      ]
    },
    {
      "cell_type": "code",
      "execution_count": 8,
      "metadata": {
        "colab": {
          "base_uri": "https://localhost:8080/"
        },
        "id": "5tZ5aM43qayz",
        "outputId": "3e61fe00-c7d1-4506-edd4-d9c79242c351"
      },
      "outputs": [
        {
          "output_type": "stream",
          "name": "stdout",
          "text": [
            "Digite a idade:  19\n",
            "Digite a idade 2:  15\n",
            "A Primeira idade é maior? True\n"
          ]
        }
      ],
      "source": [
        "##Idade\n",
        "\n",
        "#Entrada\n",
        "idade1 = float(input('Digite a idade:  '))\n",
        "idade2 = float(input('Digite a idade 2:  '))\n",
        "\n",
        "#Processamento\n",
        "idademaior = (idade1 >= idade2) and (idade2 <= idade1)\n",
        "\n",
        "#saida\n",
        "print(f'A Primeira idade é maior? {idademaior}')"
      ]
    },
    {
      "cell_type": "code",
      "source": [
        "##Senha e idade\n",
        "#Entrada\n",
        "idade = float(input('Digite a idade:  '))\n",
        "senhadousuario = float(input('Digite a senha:  '))\n",
        "senha = 1234\n",
        "\n",
        "#Processamento\n",
        "acessoliberado = (idade >= 18) and (senhadousuario == 1234)\n",
        "\n",
        "\n",
        "#saida\n",
        "print(f'acesso liberado?  {acessoliberado}')\n"
      ],
      "metadata": {
        "colab": {
          "base_uri": "https://localhost:8080/"
        },
        "id": "xi4Ae39Uup6V",
        "outputId": "99d19af0-8e6c-41ba-fe97-69950155284b"
      },
      "execution_count": 24,
      "outputs": [
        {
          "output_type": "stream",
          "name": "stdout",
          "text": [
            "Digite a idade:  18\n",
            "Digite a senha:  1234\n",
            "acesso liberado?  True\n"
          ]
        }
      ]
    },
    {
      "cell_type": "code",
      "source": [
        "##Numeros\n",
        "\n",
        "#Entrada\n",
        "numero = float(input('Digite um numero entre 10 e 50:  '))\n",
        "\n",
        "##processamento\n",
        "\n",
        "numero = (numero >= 10) and (numero <= 50)\n",
        "\n",
        "#saida\n",
        "print(f'O numero esta entre 10 e 50?  {numero}')"
      ],
      "metadata": {
        "colab": {
          "base_uri": "https://localhost:8080/"
        },
        "id": "vBu0gAdtxcZh",
        "outputId": "15f9545a-f275-42da-bcea-747570f0aa23"
      },
      "execution_count": 31,
      "outputs": [
        {
          "output_type": "stream",
          "name": "stdout",
          "text": [
            "Digite um numero entre 10 e 50:  49.9999999999999999999999999999999999999999999999999999999999999999999999999999\n",
            "O numero esta entre 10 e 50?  True\n"
          ]
        }
      ]
    },
    {
      "cell_type": "code",
      "source": [
        "##Compra Aprovação\n",
        "\n",
        "#Entrada\n",
        "saldo = float(input('Digite o saldo:  '))\n",
        "compra = float(input('Digite o valor da compra:  '))\n",
        "tem_cupom = bool(input('Tem cupom? (sim/não)  '))\n",
        "\n",
        "\n",
        "#Processamento\n",
        "compraaprovada = (saldo >= compra) or (tem_cupom == True)\n",
        "\n",
        "#saida\n",
        "print(f'Compra aprovada?  {compraaprovada}')"
      ],
      "metadata": {
        "colab": {
          "base_uri": "https://localhost:8080/"
        },
        "id": "Ftml7gmjySoe",
        "outputId": "a261ffcb-ac8e-410e-f844-530bd3d89b7c"
      },
      "execution_count": 50,
      "outputs": [
        {
          "output_type": "stream",
          "name": "stdout",
          "text": [
            "Digite o saldo:  10\n",
            "Digite o valor da compra:  20\n",
            "Tem cupom? (sim/não)  tem cupom\n",
            "Compra aprovada?  True\n"
          ]
        }
      ]
    },
    {
      "cell_type": "code",
      "source": [
        "##Checar Condições Múltiplas\n",
        "#entrada\n",
        "numero = float(input('Digite um numero:  '))\n",
        "\n",
        "#processamento\n",
        "par = (numero%2 == 0)\n",
        "impar = (numero%2 == 1)\n",
        "negativo = (numero < 0)\n",
        "positivo = (numero >= 0)\n",
        "\n",
        "#saida\n",
        "print(f'O numero {numero} é par?  {par}')\n",
        "print(f'O numero {numero} é impar?  {impar}')\n",
        "print(f'O numero {numero} é negativo?  {negativo}')\n",
        "print(f'O numero {numero} é positivo?  {positivo}')"
      ],
      "metadata": {
        "colab": {
          "base_uri": "https://localhost:8080/"
        },
        "id": "g2v37eXE6ozE",
        "outputId": "f7c00443-877b-458c-cb37-f54f1475d795"
      },
      "execution_count": 75,
      "outputs": [
        {
          "output_type": "stream",
          "name": "stdout",
          "text": [
            "Digite um numero:  -3\n",
            "O numero -3.0 é par?  False\n",
            "O numero -3.0 é impar?  True\n",
            "O numero -3.0 é negativo?  True\n",
            "O numero -3.0 é positivo?  False\n"
          ]
        }
      ]
    },
    {
      "cell_type": "code",
      "source": [
        "##Verificar Se É Adolescente\n",
        "\n",
        "#Entrada\n",
        "idade = float(input('Digite a idade:  '))\n",
        "\n",
        "#Processamento\n",
        "adolescente = (idade >= 13) and (idade <= 17)\n",
        "\n",
        "#saida\n",
        "print(f'É adolescente?  {adolescente}')"
      ],
      "metadata": {
        "colab": {
          "base_uri": "https://localhost:8080/"
        },
        "id": "mvjFaGBC-70U",
        "outputId": "d502aac2-ede1-49d4-832d-4ee25bcabe88"
      },
      "execution_count": 77,
      "outputs": [
        {
          "output_type": "stream",
          "name": "stdout",
          "text": [
            "Digite a idade:  13\n",
            "É adolescente?  True\n"
          ]
        }
      ]
    },
    {
      "cell_type": "code",
      "source": [
        "##Senha Correta ou Admin\n",
        "\n",
        "#Entrada\n",
        "senhausuario = float(input('Digite a senha:  '))\n",
        "cargo_admin = bool(input('tem o cargo admin? (s/n)  '))\n",
        "senha = 12345\n",
        "#Processamento\n",
        "senhacorreta = (senhausuario == 12345) or (cargo_admin ==\"s\")\n",
        "\n",
        "#saida\n",
        "print(f'Acesso permitido?  {senhacorreta}')"
      ],
      "metadata": {
        "colab": {
          "base_uri": "https://localhost:8080/"
        },
        "id": "yYj91WZnAIAU",
        "outputId": "43fd4689-0671-4c80-9afd-372defbf6b23"
      },
      "execution_count": 112,
      "outputs": [
        {
          "output_type": "stream",
          "name": "stdout",
          "text": [
            "Digite a senha:  42414141\n",
            "tem o cargo admin? (s/n)  s\n",
            "Acesso permitido?  False\n"
          ]
        }
      ]
    },
    {
      "cell_type": "code",
      "source": [
        "##Nota para Aprovação\n",
        "\n",
        "#entrada\n",
        "nota = float(input('Digite a nota :  '))\n",
        "presente = bool(input('A pessoa está presente? (s/n)  '))\n",
        "\n",
        "#processamento\n",
        "aprovado = (nota >= 6 and nota <= 10) and (presente ==\"s\")\n",
        "\n",
        "#saida\n",
        "print('Aprovado?  ',  aprovado)"
      ],
      "metadata": {
        "colab": {
          "base_uri": "https://localhost:8080/"
        },
        "id": "3GVwu4LmDXLZ",
        "outputId": "030bbf35-4a1c-4b91-fd70-5e489cf1f446"
      },
      "execution_count": 114,
      "outputs": [
        {
          "output_type": "stream",
          "name": "stdout",
          "text": [
            "Digite a nota :  6\n",
            "A pessoa está presente? (s/n)  s\n",
            "Aprovado?   False\n"
          ]
        }
      ]
    },
    {
      "cell_type": "code",
      "source": [],
      "metadata": {
        "id": "0reSG3KPGupI"
      },
      "execution_count": null,
      "outputs": []
    }
  ]
}