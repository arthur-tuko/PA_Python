{
  "nbformat": 4,
  "nbformat_minor": 0,
  "metadata": {
    "colab": {
      "provenance": [],
      "authorship_tag": "ABX9TyMeECZZY4M+VIrw7XTQjZxh",
      "include_colab_link": true
    },
    "kernelspec": {
      "name": "python3",
      "display_name": "Python 3"
    },
    "language_info": {
      "name": "python"
    }
  },
  "cells": [
    {
      "cell_type": "markdown",
      "metadata": {
        "id": "view-in-github",
        "colab_type": "text"
      },
      "source": [
        "<a href=\"https://colab.research.google.com/github/arthur-tuko/PA_Python/blob/main/Aula_PA_1C/Calcular.ipynb\" target=\"_parent\"><img src=\"https://colab.research.google.com/assets/colab-badge.svg\" alt=\"Open In Colab\"/></a>"
      ]
    },
    {
      "cell_type": "code",
      "execution_count": 3,
      "metadata": {
        "colab": {
          "base_uri": "https://localhost:8080/"
        },
        "id": "yTkgOIw1-Iu5",
        "outputId": "c05eb79b-759b-4c17-e1ba-4fa6db306f8c"
      },
      "outputs": [
        {
          "output_type": "stream",
          "name": "stdout",
          "text": [
            "Digite a largura da região em metros: 2\n",
            "Digite o comprimento da região em metros: 2\n",
            "A área da região é 4.0 m²\n"
          ]
        }
      ],
      "source": [
        "#Calcular area de uma região\n",
        "##Entrada\n",
        "largura = float(input('Digite a largura da região em metros: '))\n",
        "comprimento = float(input('Digite o comprimento da região em metros: '))\n",
        "##Processamento\n",
        "area = largura * comprimento\n",
        "##Saída\n",
        "print('A área da região é', area, 'm²')"
      ]
    },
    {
      "cell_type": "code",
      "source": [
        "#Calcule sei la\n",
        "##Entrada\n",
        "num1 = float(input('Digite o numero para calcular'))\n",
        "num2 = float(input('Digite o numero para calcular'))\n",
        "\n",
        "\n",
        "##Processamento\n",
        "soma = num1 + num2\n",
        "\n",
        "##Saída\n",
        "print('O numero somado é', soma)"
      ],
      "metadata": {
        "colab": {
          "base_uri": "https://localhost:8080/"
        },
        "id": "hRndaAqz_0bE",
        "outputId": "f54f36c0-d5c3-4c17-f08a-b26dbb7d201d"
      },
      "execution_count": 11,
      "outputs": [
        {
          "output_type": "stream",
          "name": "stdout",
          "text": [
            "Digite o numero para calcular3\n",
            "Digite o numero para calcular2\n",
            "O numero somado é 5.0\n"
          ]
        }
      ]
    }
  ]
}