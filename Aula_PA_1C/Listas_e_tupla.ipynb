{
  "nbformat": 4,
  "nbformat_minor": 0,
  "metadata": {
    "colab": {
      "provenance": [],
      "authorship_tag": "ABX9TyPTAa/hobIovAwLpX4pLlPY",
      "include_colab_link": true
    },
    "kernelspec": {
      "name": "python3",
      "display_name": "Python 3"
    },
    "language_info": {
      "name": "python"
    }
  },
  "cells": [
    {
      "cell_type": "markdown",
      "metadata": {
        "id": "view-in-github",
        "colab_type": "text"
      },
      "source": [
        "<a href=\"https://colab.research.google.com/github/arthur-tuko/PA_Python/blob/main/Aula_PA_1C/Listas_e_tupla.ipynb\" target=\"_parent\"><img src=\"https://colab.research.google.com/assets/colab-badge.svg\" alt=\"Open In Colab\"/></a>"
      ]
    },
    {
      "cell_type": "code",
      "execution_count": 4,
      "metadata": {
        "id": "cNIYp9dZPA_w"
      },
      "outputs": [],
      "source": [
        "armas = [\"p90\", \"m4\", \"paraFal\", \"glock\", \"38\", \"magnum\"]"
      ]
    },
    {
      "cell_type": "code",
      "source": [
        "armas"
      ],
      "metadata": {
        "colab": {
          "base_uri": "https://localhost:8080/"
        },
        "id": "k8dzabwgSjaz",
        "outputId": "c8ce2667-79da-441d-91e2-9262ab395994"
      },
      "execution_count": 5,
      "outputs": [
        {
          "output_type": "execute_result",
          "data": {
            "text/plain": [
              "['p90', 'm4', 'paraFal', 'glock', '38', 'magnum']"
            ]
          },
          "metadata": {},
          "execution_count": 5
        }
      ]
    },
    {
      "cell_type": "code",
      "source": [
        "armas.append (\"ak47\")"
      ],
      "metadata": {
        "id": "nzCNP_GmSlJu"
      },
      "execution_count": 7,
      "outputs": []
    },
    {
      "cell_type": "code",
      "source": [
        "armas"
      ],
      "metadata": {
        "colab": {
          "base_uri": "https://localhost:8080/"
        },
        "id": "Lc3nu8jtSxBX",
        "outputId": "2b45c0f5-3086-444d-9805-1e9213239163"
      },
      "execution_count": 8,
      "outputs": [
        {
          "output_type": "execute_result",
          "data": {
            "text/plain": [
              "['p90', 'm4', 'paraFal', 'glock', '38', 'magnum', 'ak47']"
            ]
          },
          "metadata": {},
          "execution_count": 8
        }
      ]
    },
    {
      "cell_type": "code",
      "source": [
        "armas.remove (\"glock\")"
      ],
      "metadata": {
        "id": "iqcq_zSnSzru"
      },
      "execution_count": 9,
      "outputs": []
    },
    {
      "cell_type": "code",
      "source": [
        "armas"
      ],
      "metadata": {
        "colab": {
          "base_uri": "https://localhost:8080/"
        },
        "id": "Wy3kfFvAS52n",
        "outputId": "006dccfb-3ff1-495d-b109-7acd32a0ab1a"
      },
      "execution_count": 10,
      "outputs": [
        {
          "output_type": "execute_result",
          "data": {
            "text/plain": [
              "['p90', 'm4', 'paraFal', '38', 'magnum', 'ak47']"
            ]
          },
          "metadata": {},
          "execution_count": 10
        }
      ]
    },
    {
      "cell_type": "code",
      "source": [
        "armas.extend ([\"p10\", \"p30\", \"awm\", \"thompson\", \"g36\", \"m11\", \"mk12\"])"
      ],
      "metadata": {
        "id": "nl4-gi5JS7xX"
      },
      "execution_count": 13,
      "outputs": []
    },
    {
      "cell_type": "code",
      "source": [
        "armas"
      ],
      "metadata": {
        "colab": {
          "base_uri": "https://localhost:8080/"
        },
        "id": "XoiXd5KiT_Gt",
        "outputId": "256748ef-b268-407e-d85b-5fa5096972c8"
      },
      "execution_count": 14,
      "outputs": [
        {
          "output_type": "execute_result",
          "data": {
            "text/plain": [
              "['p90',\n",
              " 'm4',\n",
              " 'paraFal',\n",
              " '38',\n",
              " 'magnum',\n",
              " 'ak47',\n",
              " 'p10',\n",
              " 'p30',\n",
              " 'awm',\n",
              " 'thompson',\n",
              " 'g36',\n",
              " 'm11',\n",
              " 'mk12']"
            ]
          },
          "metadata": {},
          "execution_count": 14
        }
      ]
    }
  ]
}