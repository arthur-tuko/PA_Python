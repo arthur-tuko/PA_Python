{
  "nbformat": 4,
  "nbformat_minor": 0,
  "metadata": {
    "colab": {
      "provenance": [],
      "authorship_tag": "ABX9TyPPFC4Q1T9CIWATXDVl6/p6",
      "include_colab_link": true
    },
    "kernelspec": {
      "name": "python3",
      "display_name": "Python 3"
    },
    "language_info": {
      "name": "python"
    }
  },
  "cells": [
    {
      "cell_type": "markdown",
      "metadata": {
        "id": "view-in-github",
        "colab_type": "text"
      },
      "source": [
        "<a href=\"https://colab.research.google.com/github/arthur-tuko/PA_Python/blob/main/Aula_PA_1C/Listas_e_tupla.ipynb\" target=\"_parent\"><img src=\"https://colab.research.google.com/assets/colab-badge.svg\" alt=\"Open In Colab\"/></a>"
      ]
    },
    {
      "cell_type": "code",
      "execution_count": 7,
      "metadata": {
        "id": "cNIYp9dZPA_w"
      },
      "outputs": [],
      "source": [
        "armas = [\"p90\", \"m4\", \"paraFal\", \"glock\", \"38\", \"magnum\"]"
      ]
    },
    {
      "cell_type": "code",
      "source": [
        "armas"
      ],
      "metadata": {
        "colab": {
          "base_uri": "https://localhost:8080/"
        },
        "id": "k8dzabwgSjaz",
        "outputId": "b6e8e431-6fbe-41f1-ea33-db29072f02db"
      },
      "execution_count": 8,
      "outputs": [
        {
          "output_type": "execute_result",
          "data": {
            "text/plain": [
              "['p90', 'm4', 'paraFal', 'glock', '38', 'magnum']"
            ]
          },
          "metadata": {},
          "execution_count": 8
        }
      ]
    },
    {
      "cell_type": "code",
      "source": [
        "armas.append (\"ak47\")"
      ],
      "metadata": {
        "id": "nzCNP_GmSlJu"
      },
      "execution_count": 10,
      "outputs": []
    },
    {
      "cell_type": "code",
      "source": [
        "armas"
      ],
      "metadata": {
        "colab": {
          "base_uri": "https://localhost:8080/"
        },
        "id": "Lc3nu8jtSxBX",
        "outputId": "ed5a9edd-47bc-4a12-8016-012b7e901e60"
      },
      "execution_count": 11,
      "outputs": [
        {
          "output_type": "execute_result",
          "data": {
            "text/plain": [
              "['p90', 'm4', 'paraFal', 'glock', '38', 'magnum', 'ak47', 'ak47']"
            ]
          },
          "metadata": {},
          "execution_count": 11
        }
      ]
    },
    {
      "cell_type": "code",
      "source": [
        "armas.remove (\"glock\")"
      ],
      "metadata": {
        "id": "iqcq_zSnSzru"
      },
      "execution_count": 12,
      "outputs": []
    },
    {
      "cell_type": "code",
      "source": [
        "armas"
      ],
      "metadata": {
        "colab": {
          "base_uri": "https://localhost:8080/"
        },
        "id": "Wy3kfFvAS52n",
        "outputId": "91cea9b7-d792-4424-8c84-f233fa085389"
      },
      "execution_count": 13,
      "outputs": [
        {
          "output_type": "execute_result",
          "data": {
            "text/plain": [
              "['p90', 'm4', 'paraFal', '38', 'magnum', 'ak47', 'ak47']"
            ]
          },
          "metadata": {},
          "execution_count": 13
        }
      ]
    },
    {
      "cell_type": "code",
      "source": [
        "armas.extend ([\"p10\", \"p30\", \"awm\", \"thompson\", \"g36\", \"m11\", \"mk12\"])"
      ],
      "metadata": {
        "id": "nl4-gi5JS7xX"
      },
      "execution_count": 14,
      "outputs": []
    },
    {
      "cell_type": "code",
      "source": [
        "armas"
      ],
      "metadata": {
        "colab": {
          "base_uri": "https://localhost:8080/"
        },
        "id": "XoiXd5KiT_Gt",
        "outputId": "256748ef-b268-407e-d85b-5fa5096972c8"
      },
      "execution_count": null,
      "outputs": [
        {
          "output_type": "execute_result",
          "data": {
            "text/plain": [
              "['p90',\n",
              " 'm4',\n",
              " 'paraFal',\n",
              " '38',\n",
              " 'magnum',\n",
              " 'ak47',\n",
              " 'p10',\n",
              " 'p30',\n",
              " 'awm',\n",
              " 'thompson',\n",
              " 'g36',\n",
              " 'm11',\n",
              " 'mk12']"
            ]
          },
          "metadata": {},
          "execution_count": 14
        }
      ]
    },
    {
      "cell_type": "code",
      "source": [
        "import random\n",
        "a = random.randint(0, 11)\n",
        "print(armas[a])"
      ],
      "metadata": {
        "id": "kyep1kTpW4Wi",
        "outputId": "4d22ed48-405b-4f29-e4ad-15286dbff558",
        "colab": {
          "base_uri": "https://localhost:8080/"
        }
      },
      "execution_count": 25,
      "outputs": [
        {
          "output_type": "stream",
          "name": "stdout",
          "text": [
            "ak47\n"
          ]
        }
      ]
    }
  ]
}