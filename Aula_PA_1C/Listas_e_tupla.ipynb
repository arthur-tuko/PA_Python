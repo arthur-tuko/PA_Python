{
  "nbformat": 4,
  "nbformat_minor": 0,
  "metadata": {
    "colab": {
      "provenance": [],
      "authorship_tag": "ABX9TyOnDuI0AFkz5crJ5itiY8tb",
      "include_colab_link": true
    },
    "kernelspec": {
      "name": "python3",
      "display_name": "Python 3"
    },
    "language_info": {
      "name": "python"
    }
  },
  "cells": [
    {
      "cell_type": "markdown",
      "metadata": {
        "id": "view-in-github",
        "colab_type": "text"
      },
      "source": [
        "<a href=\"https://colab.research.google.com/github/arthur-tuko/PA_Python/blob/main/Aula_PA_1C/Listas_e_tupla.ipynb\" target=\"_parent\"><img src=\"https://colab.research.google.com/assets/colab-badge.svg\" alt=\"Open In Colab\"/></a>"
      ]
    },
    {
      "cell_type": "code",
      "execution_count": null,
      "metadata": {
        "id": "cNIYp9dZPA_w"
      },
      "outputs": [],
      "source": [
        "armas = [\"p90\", \"m4\", \"paraFal\", \"glock\", \"38\", \"magnum\"]"
      ]
    },
    {
      "cell_type": "code",
      "source": [
        "armas"
      ],
      "metadata": {
        "colab": {
          "base_uri": "https://localhost:8080/"
        },
        "id": "k8dzabwgSjaz",
        "outputId": "b6e8e431-6fbe-41f1-ea33-db29072f02db"
      },
      "execution_count": null,
      "outputs": [
        {
          "output_type": "execute_result",
          "data": {
            "text/plain": [
              "['p90', 'm4', 'paraFal', 'glock', '38', 'magnum']"
            ]
          },
          "metadata": {},
          "execution_count": 8
        }
      ]
    },
    {
      "cell_type": "code",
      "source": [
        "armas.append (\"ak47\")"
      ],
      "metadata": {
        "id": "nzCNP_GmSlJu"
      },
      "execution_count": null,
      "outputs": []
    },
    {
      "cell_type": "code",
      "source": [
        "armas"
      ],
      "metadata": {
        "colab": {
          "base_uri": "https://localhost:8080/"
        },
        "id": "Lc3nu8jtSxBX",
        "outputId": "ed5a9edd-47bc-4a12-8016-012b7e901e60"
      },
      "execution_count": null,
      "outputs": [
        {
          "output_type": "execute_result",
          "data": {
            "text/plain": [
              "['p90', 'm4', 'paraFal', 'glock', '38', 'magnum', 'ak47', 'ak47']"
            ]
          },
          "metadata": {},
          "execution_count": 11
        }
      ]
    },
    {
      "cell_type": "code",
      "source": [
        "armas.remove (\"glock\")"
      ],
      "metadata": {
        "id": "iqcq_zSnSzru"
      },
      "execution_count": null,
      "outputs": []
    },
    {
      "cell_type": "code",
      "source": [
        "armas"
      ],
      "metadata": {
        "colab": {
          "base_uri": "https://localhost:8080/"
        },
        "id": "Wy3kfFvAS52n",
        "outputId": "91cea9b7-d792-4424-8c84-f233fa085389"
      },
      "execution_count": null,
      "outputs": [
        {
          "output_type": "execute_result",
          "data": {
            "text/plain": [
              "['p90', 'm4', 'paraFal', '38', 'magnum', 'ak47', 'ak47']"
            ]
          },
          "metadata": {},
          "execution_count": 13
        }
      ]
    },
    {
      "cell_type": "code",
      "source": [
        "armas.extend ([\"p10\", \"p30\", \"awm\", \"thompson\", \"g36\", \"m11\", \"mk12\"])"
      ],
      "metadata": {
        "id": "nl4-gi5JS7xX"
      },
      "execution_count": null,
      "outputs": []
    },
    {
      "cell_type": "code",
      "source": [
        "armas"
      ],
      "metadata": {
        "colab": {
          "base_uri": "https://localhost:8080/"
        },
        "id": "XoiXd5KiT_Gt",
        "outputId": "256748ef-b268-407e-d85b-5fa5096972c8"
      },
      "execution_count": null,
      "outputs": [
        {
          "output_type": "execute_result",
          "data": {
            "text/plain": [
              "['p90',\n",
              " 'm4',\n",
              " 'paraFal',\n",
              " '38',\n",
              " 'magnum',\n",
              " 'ak47',\n",
              " 'p10',\n",
              " 'p30',\n",
              " 'awm',\n",
              " 'thompson',\n",
              " 'g36',\n",
              " 'm11',\n",
              " 'mk12']"
            ]
          },
          "metadata": {},
          "execution_count": 14
        }
      ]
    },
    {
      "cell_type": "code",
      "source": [
        "import random\n",
        "a = random.randint(0, 11)\n",
        "print(armas[a])"
      ],
      "metadata": {
        "id": "kyep1kTpW4Wi",
        "outputId": "4d22ed48-405b-4f29-e4ad-15286dbff558",
        "colab": {
          "base_uri": "https://localhost:8080/"
        }
      },
      "execution_count": null,
      "outputs": [
        {
          "output_type": "stream",
          "name": "stdout",
          "text": [
            "ak47\n"
          ]
        }
      ]
    },
    {
      "cell_type": "code",
      "source": [
        "for i in range(1 ,11):\n",
        "  print(i)"
      ],
      "metadata": {
        "colab": {
          "base_uri": "https://localhost:8080/"
        },
        "id": "5iO7-M8bNIxT",
        "outputId": "caf73b5a-f567-41fe-fcca-1259428300a3"
      },
      "execution_count": null,
      "outputs": [
        {
          "output_type": "stream",
          "name": "stdout",
          "text": [
            "1\n",
            "2\n",
            "3\n",
            "4\n",
            "5\n",
            "6\n",
            "7\n",
            "8\n",
            "9\n",
            "10\n"
          ]
        }
      ]
    },
    {
      "cell_type": "code",
      "source": [
        "soma = 0\n",
        "for i in range(1 ,11):\n",
        "  soma = soma + i\n",
        "print(\"Soma:\" ,soma)"
      ],
      "metadata": {
        "colab": {
          "base_uri": "https://localhost:8080/"
        },
        "id": "1hlRJj7XNOsg",
        "outputId": "94cffc1f-df06-4aff-b88c-92bf61ad8ea5"
      },
      "execution_count": null,
      "outputs": [
        {
          "output_type": "stream",
          "name": "stdout",
          "text": [
            "Soma: 55\n"
          ]
        }
      ]
    },
    {
      "cell_type": "code",
      "source": [
        "n = int(input(\"Digite um número: \"))\n",
        "for i in range(1 ,11):\n",
        " print(f\"{n} * {i} = {n*i}\")"
      ],
      "metadata": {
        "colab": {
          "base_uri": "https://localhost:8080/"
        },
        "id": "xSAhyk99OPmO",
        "outputId": "a5686ba5-ec09-42b7-c882-d8df5137c065"
      },
      "execution_count": 131,
      "outputs": [
        {
          "output_type": "stream",
          "name": "stdout",
          "text": [
            "Digite um número: 77\n",
            "77 * 1 = 77\n",
            "77 * 2 = 154\n",
            "77 * 3 = 231\n",
            "77 * 4 = 308\n",
            "77 * 5 = 385\n",
            "77 * 6 = 462\n",
            "77 * 7 = 539\n",
            "77 * 8 = 616\n",
            "77 * 9 = 693\n",
            "77 * 10 = 770\n"
          ]
        }
      ]
    },
    {
      "cell_type": "code",
      "source": [
        "for i in range(1 ,21):\n",
        "  if i %2 == 0:\n",
        "    print(i)"
      ],
      "metadata": {
        "colab": {
          "base_uri": "https://localhost:8080/"
        },
        "id": "HVxqnrFwP5YM",
        "outputId": "5fbb0020-fd63-4d7c-8e79-c5ed07ab1d86"
      },
      "execution_count": 156,
      "outputs": [
        {
          "output_type": "stream",
          "name": "stdout",
          "text": [
            "2\n",
            "4\n",
            "6\n",
            "8\n",
            "10\n",
            "12\n",
            "14\n",
            "16\n",
            "18\n",
            "20\n"
          ]
        }
      ]
    },
    {
      "cell_type": "code",
      "source": [
        "for i in range(0, 21, 2):\n",
        "  print(i)"
      ],
      "metadata": {
        "colab": {
          "base_uri": "https://localhost:8080/"
        },
        "id": "h5EzDHvAStWT",
        "outputId": "47c9730d-1aa5-4ebe-e969-f807e9005d8c"
      },
      "execution_count": 161,
      "outputs": [
        {
          "output_type": "stream",
          "name": "stdout",
          "text": [
            "0\n",
            "2\n",
            "4\n",
            "6\n",
            "8\n",
            "10\n",
            "12\n",
            "14\n",
            "16\n",
            "18\n",
            "20\n"
          ]
        }
      ]
    }
  ]
}